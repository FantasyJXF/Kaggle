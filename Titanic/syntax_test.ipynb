{
 "cells": [
  {
   "cell_type": "code",
   "execution_count": 4,
   "metadata": {},
   "outputs": [],
   "source": [
    "import pandas as pd\n",
    "from pandas import Series,DataFrame\n",
    "import numpy as np\n",
    "\n",
    "data_train = pd.read_csv(\"train.csv\")\n",
    "data_test = pd.read_csv(\"test.csv\")\n"
   ]
  },
  {
   "cell_type": "code",
   "execution_count": 5,
   "metadata": {},
   "outputs": [],
   "source": [
    "data_all = data_train.append(data_test, sort=True)\n",
    "data_all.loc[data_all.Fare.isnull()] = data_all.loc[data_all.Fare.notnull(),'Fare'].mean()"
   ]
  },
  {
   "cell_type": "code",
   "execution_count": 23,
   "metadata": {},
   "outputs": [
    {
     "name": "stdout",
     "output_type": "stream",
     "text": [
      "<class 'pandas.core.frame.DataFrame'>\n",
      "Int64Index: 892 entries, 0 to 152\n",
      "Data columns (total 12 columns):\n",
      "Age            715 non-null float64\n",
      "Cabin          205 non-null object\n",
      "Embarked       890 non-null object\n",
      "Fare           892 non-null float64\n",
      "Name           892 non-null object\n",
      "Parch          892 non-null float64\n",
      "PassengerId    892 non-null float64\n",
      "Pclass         892 non-null float64\n",
      "Sex            892 non-null object\n",
      "SibSp          892 non-null float64\n",
      "Survived       892 non-null float64\n",
      "Ticket         892 non-null object\n",
      "dtypes: float64(7), object(5)\n",
      "memory usage: 90.6+ KB\n"
     ]
    }
   ],
   "source": []
  },
  {
   "cell_type": "code",
   "execution_count": 24,
   "metadata": {},
   "outputs": [
    {
     "name": "stdout",
     "output_type": "stream",
     "text": [
      "<class 'pandas.core.frame.DataFrame'>\n",
      "Int64Index: 417 entries, 0 to 417\n",
      "Data columns (total 11 columns):\n",
      "Age            331 non-null float64\n",
      "Cabin          91 non-null object\n",
      "Embarked       417 non-null object\n",
      "Fare           417 non-null float64\n",
      "Name           417 non-null object\n",
      "Parch          417 non-null float64\n",
      "PassengerId    417 non-null float64\n",
      "Pclass         417 non-null float64\n",
      "Sex            417 non-null object\n",
      "SibSp          417 non-null float64\n",
      "Ticket         417 non-null object\n",
      "dtypes: float64(6), object(5)\n",
      "memory usage: 39.1+ KB\n"
     ]
    }
   ],
   "source": [
    "train_df = data_all.loc[data_all.Survived.notnull()]\n",
    "test_df = data_all.loc[data_all.Survived.isnull()]\n",
    "test_df.pop('Survived')\n",
    "test_df.info()"
   ]
  },
  {
   "cell_type": "code",
   "execution_count": null,
   "metadata": {},
   "outputs": [],
   "source": []
  }
 ],
 "metadata": {
  "kernelspec": {
   "display_name": "Python 3",
   "language": "python",
   "name": "python3"
  },
  "language_info": {
   "codemirror_mode": {
    "name": "ipython",
    "version": 3
   },
   "file_extension": ".py",
   "mimetype": "text/x-python",
   "name": "python",
   "nbconvert_exporter": "python",
   "pygments_lexer": "ipython3",
   "version": "3.6.5"
  }
 },
 "nbformat": 4,
 "nbformat_minor": 2
}
