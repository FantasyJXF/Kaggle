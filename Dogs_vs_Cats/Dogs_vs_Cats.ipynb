{
 "cells": [
  {
   "cell_type": "markdown",
   "metadata": {},
   "source": [
    "# 猫狗识别 V1"
   ]
  },
  {
   "cell_type": "markdown",
   "metadata": {},
   "source": [
    "## 数据预处理"
   ]
  },
  {
   "cell_type": "markdown",
   "metadata": {},
   "source": [
    "### 准备数据"
   ]
  },
  {
   "cell_type": "code",
   "execution_count": 11,
   "metadata": {
    "ExecuteTime": {
     "end_time": "2018-10-31T12:56:02.089881Z",
     "start_time": "2018-10-31T12:56:02.084083Z"
    }
   },
   "outputs": [],
   "source": [
    "import os, shutil\n",
    "\n",
    "# 原始数据集解压目录的路径\n",
    "original_dataset_dir = './dataset/all/train'\n",
    "\n",
    "# 保存较小的数据集目录\n",
    "base_dir = './dataset/cats_and_dogs_small'\n",
    "if not os.path.exists(base_dir):\n",
    "    os.mkdir(base_dir)\n",
    "\n",
    "# 训练数据目录\n",
    "train_dir = os.path.join(base_dir,'train')\n",
    "if not os.path.exists(train_dir):\n",
    "    os.mkdir(train_dir)\n",
    "\n",
    "# 验证数据目录\n",
    "validation_dir = os.path.join(base_dir, 'validation')\n",
    "if not os.path.exists(validation_dir):\n",
    "    os.mkdir(validation_dir)\n",
    "\n",
    "# 测试数据目录\n",
    "test_dir = os.path.join(base_dir, 'test')\n",
    "if not os.path.exists(test_dir):\n",
    "    os.mkdir(test_dir)\n",
    "\n",
    "# 猫的训练图像目录\n",
    "train_cats_dir = os.path.join(train_dir, 'cats')\n",
    "if not os.path.exists(train_cats_dir):\n",
    "    os.mkdir(train_cats_dir)\n",
    "\n",
    "# 狗的训练图像目录\n",
    "train_dogs_dir = os.path.join(train_dir, 'dogs')\n",
    "if not os.path.exists(train_dogs_dir):\n",
    "    os.mkdir(train_dogs_dir)\n",
    "\n",
    "# 猫的验证图像目录\n",
    "validation_cats_dir = os.path.join(validation_dir, 'cats')\n",
    "if not os.path.exists(validation_cats_dir):\n",
    "    os.mkdir(validation_cats_dir)\n",
    "\n",
    "# 狗的验证图像目录\n",
    "validation_dogs_dir = os.path.join(validation_dir, 'dogs')\n",
    "if not os.path.exists(validation_dogs_dir):\n",
    "    os.mkdir(validation_dogs_dir)\n",
    "\n",
    "# 猫的测试集图像目录\n",
    "test_cats_dir = os.path.join(test_dir, 'cats')\n",
    "if not os.path.exists(test_cats_dir):\n",
    "    os.mkdir(test_cats_dir)\n",
    "\n",
    "# 狗的测试图像目录\n",
    "test_dogs_dir = os.path.join(test_dir, 'dogs')\n",
    "if not os.path.exists(test_dogs_dir):\n",
    "    os.mkdir(test_dogs_dir)\n"
   ]
  },
  {
   "cell_type": "markdown",
   "metadata": {},
   "source": [
    "将前1000张**猫**的图像复制到train_cats_dir中"
   ]
  },
  {
   "cell_type": "code",
   "execution_count": 12,
   "metadata": {
    "ExecuteTime": {
     "end_time": "2018-10-31T12:56:08.813155Z",
     "start_time": "2018-10-31T12:56:08.228272Z"
    }
   },
   "outputs": [],
   "source": [
    "fnames = ['cat.{}.jpg'.format(i) for i in range(1000)]\n",
    "for fname in fnames:\n",
    "    src = os.path.join(original_dataset_dir, fname)\n",
    "    dst = os.path.join(train_cats_dir, fname)\n",
    "    shutil.copyfile(src, dst)"
   ]
  },
  {
   "cell_type": "markdown",
   "metadata": {},
   "source": [
    "将接下来的500张猫的图像复制到validation_cats_dir中"
   ]
  },
  {
   "cell_type": "code",
   "execution_count": 15,
   "metadata": {
    "ExecuteTime": {
     "end_time": "2018-10-31T12:59:54.548518Z",
     "start_time": "2018-10-31T12:59:54.327966Z"
    }
   },
   "outputs": [],
   "source": [
    "fnames = ['cat.{}.jpg'.format(i) for i in range(1000, 1500)]\n",
    "for fname in fnames:\n",
    "    src = os.path.join(original_dataset_dir, fname)\n",
    "    dst = os.path.join(validation_cats_dir, fname)\n",
    "    shutil.copyfile(src, dst)"
   ]
  },
  {
   "cell_type": "markdown",
   "metadata": {},
   "source": [
    "将接下来的500张猫的图像复制到test_cats_dir中"
   ]
  },
  {
   "cell_type": "code",
   "execution_count": 16,
   "metadata": {
    "ExecuteTime": {
     "end_time": "2018-10-31T13:02:44.532901Z",
     "start_time": "2018-10-31T13:02:44.312903Z"
    }
   },
   "outputs": [],
   "source": [
    "fnames = ['cat.{}.jpg'.format(i) for i in range(1500, 2000)]\n",
    "for fname in fnames:\n",
    "    src = os.path.join(original_dataset_dir, fname)\n",
    "    dst = os.path.join(test_cats_dir, fname)\n",
    "    shutil.copyfile(src, dst)"
   ]
  },
  {
   "cell_type": "markdown",
   "metadata": {},
   "source": [
    "将前1000张**狗**的图像复制到train_dogs_dir中"
   ]
  },
  {
   "cell_type": "code",
   "execution_count": 17,
   "metadata": {
    "ExecuteTime": {
     "end_time": "2018-10-31T13:05:48.862775Z",
     "start_time": "2018-10-31T13:05:48.300573Z"
    }
   },
   "outputs": [],
   "source": [
    "fnames = ['dog.{}.jpg'.format(i) for i in range(1000)]\n",
    "for fname in fnames:\n",
    "    src = os.path.join(original_dataset_dir, fname)\n",
    "    dst = os.path.join(train_dogs_dir, fname)\n",
    "    shutil.copyfile(src, dst)"
   ]
  },
  {
   "cell_type": "markdown",
   "metadata": {},
   "source": [
    "将接下来的500张狗的图像复制到validaiton_dogs_fir中"
   ]
  },
  {
   "cell_type": "code",
   "execution_count": 18,
   "metadata": {
    "ExecuteTime": {
     "end_time": "2018-10-31T13:06:51.148032Z",
     "start_time": "2018-10-31T13:06:50.935191Z"
    }
   },
   "outputs": [],
   "source": [
    "fnames = ['dog.{}.jpg'.format(i) for i in range(1000, 1500)]\n",
    "for fname in fnames:\n",
    "    src = os.path.join(original_dataset_dir, fname)\n",
    "    dst = os.path.join(validation_dogs_dir, fname)\n",
    "    shutil.copyfile(src, dst)"
   ]
  },
  {
   "cell_type": "markdown",
   "metadata": {},
   "source": [
    "将接下来的500张狗的图像复制到test_dogs_dir中"
   ]
  },
  {
   "cell_type": "code",
   "execution_count": 19,
   "metadata": {
    "ExecuteTime": {
     "end_time": "2018-10-31T13:07:47.921341Z",
     "start_time": "2018-10-31T13:07:47.643781Z"
    }
   },
   "outputs": [],
   "source": [
    "fnames = ['dog.{}.jpg'.format(i) for i in range(1500, 2000)]\n",
    "for fname in fnames:\n",
    "    src = os.path.join(original_dataset_dir, fname)\n",
    "    dst = os.path.join(test_dogs_dir, fname)\n",
    "    shutil.copyfile(src, dst)"
   ]
  },
  {
   "cell_type": "markdown",
   "metadata": {},
   "source": [
    "查看每个分组(训练/验证/测试)中分别包含多少张图像"
   ]
  },
  {
   "cell_type": "code",
   "execution_count": 20,
   "metadata": {
    "ExecuteTime": {
     "end_time": "2018-10-31T13:11:15.835875Z",
     "start_time": "2018-10-31T13:11:15.832776Z"
    }
   },
   "outputs": [
    {
     "name": "stdout",
     "output_type": "stream",
     "text": [
      "total training cat images:  1000\n"
     ]
    }
   ],
   "source": [
    "print('total training cat images: ', len(os.listdir(train_cats_dir)))\n"
   ]
  },
  {
   "cell_type": "code",
   "execution_count": 21,
   "metadata": {
    "ExecuteTime": {
     "end_time": "2018-10-31T13:11:54.624050Z",
     "start_time": "2018-10-31T13:11:54.620789Z"
    }
   },
   "outputs": [
    {
     "name": "stdout",
     "output_type": "stream",
     "text": [
      "total training dog images:  1000\n"
     ]
    }
   ],
   "source": [
    "print('total training dog images: ', len(os.listdir(train_dogs_dir)))"
   ]
  },
  {
   "cell_type": "code",
   "execution_count": 22,
   "metadata": {
    "ExecuteTime": {
     "end_time": "2018-10-31T13:12:39.206572Z",
     "start_time": "2018-10-31T13:12:39.203971Z"
    }
   },
   "outputs": [
    {
     "name": "stdout",
     "output_type": "stream",
     "text": [
      "total validation cat images:  500\n"
     ]
    }
   ],
   "source": [
    "print('total validation cat images: ', len(os.listdir(validation_cats_dir)))"
   ]
  },
  {
   "cell_type": "markdown",
   "metadata": {},
   "source": [
    "## 将猫狗分类问题的小型卷积神经网络实例化"
   ]
  },
  {
   "cell_type": "code",
   "execution_count": 27,
   "metadata": {
    "ExecuteTime": {
     "end_time": "2018-10-31T13:21:53.533709Z",
     "start_time": "2018-10-31T13:21:53.484128Z"
    }
   },
   "outputs": [],
   "source": [
    "from keras import models\n",
    "from keras import layers\n",
    "\n",
    "model = models.Sequential()\n",
    "model.add(layers.Conv2D(32, (3,3), activation = 'relu', input_shape = (150, 150, 3)))\n",
    "model.add(layers.MaxPooling2D((2,2)))\n",
    "model.add(layers.Conv2D(64, (3,3), activation = 'relu'))         \n",
    "model.add(layers.MaxPooling2D((2,2)))\n",
    "model.add(layers.Conv2D(128, (3,3), activation = 'relu'))\n",
    "model.add(layers.MaxPooling2D((2,2)))\n",
    "model.add(layers.Conv2D(128, (3,3), activation = 'relu'))\n",
    "model.add(layers.MaxPooling2D((2,2)))\n",
    "model.add(layers.Flatten())\n",
    "model.add(layers.Dense(512, activation = 'relu'))\n",
    "model.add(layers.Dense(1, activation = 'sigmoid'))"
   ]
  },
  {
   "cell_type": "code",
   "execution_count": 28,
   "metadata": {
    "ExecuteTime": {
     "end_time": "2018-10-31T13:21:54.381177Z",
     "start_time": "2018-10-31T13:21:54.378345Z"
    }
   },
   "outputs": [
    {
     "name": "stdout",
     "output_type": "stream",
     "text": [
      "_________________________________________________________________\n",
      "Layer (type)                 Output Shape              Param #   \n",
      "=================================================================\n",
      "conv2d_4 (Conv2D)            (None, 148, 148, 32)      896       \n",
      "_________________________________________________________________\n",
      "max_pooling2d_4 (MaxPooling2 (None, 74, 74, 32)        0         \n",
      "_________________________________________________________________\n",
      "conv2d_5 (Conv2D)            (None, 72, 72, 64)        18496     \n",
      "_________________________________________________________________\n",
      "max_pooling2d_5 (MaxPooling2 (None, 36, 36, 64)        0         \n",
      "_________________________________________________________________\n",
      "conv2d_6 (Conv2D)            (None, 34, 34, 128)       73856     \n",
      "_________________________________________________________________\n",
      "max_pooling2d_6 (MaxPooling2 (None, 17, 17, 128)       0         \n",
      "_________________________________________________________________\n",
      "conv2d_7 (Conv2D)            (None, 15, 15, 128)       147584    \n",
      "_________________________________________________________________\n",
      "max_pooling2d_7 (MaxPooling2 (None, 7, 7, 128)         0         \n",
      "_________________________________________________________________\n",
      "flatten_2 (Flatten)          (None, 6272)              0         \n",
      "_________________________________________________________________\n",
      "dense_3 (Dense)              (None, 512)               3211776   \n",
      "_________________________________________________________________\n",
      "dense_4 (Dense)              (None, 1)                 513       \n",
      "=================================================================\n",
      "Total params: 3,453,121\n",
      "Trainable params: 3,453,121\n",
      "Non-trainable params: 0\n",
      "_________________________________________________________________\n"
     ]
    }
   ],
   "source": [
    "model.summary()"
   ]
  },
  {
   "cell_type": "markdown",
   "metadata": {},
   "source": [
    "### 配置模型用于训练"
   ]
  },
  {
   "cell_type": "code",
   "execution_count": 29,
   "metadata": {
    "ExecuteTime": {
     "end_time": "2018-10-31T13:22:37.237732Z",
     "start_time": "2018-10-31T13:22:37.235411Z"
    }
   },
   "outputs": [],
   "source": [
    "from keras import optimizers"
   ]
  },
  {
   "cell_type": "code",
   "execution_count": 30,
   "metadata": {
    "ExecuteTime": {
     "end_time": "2018-10-31T13:23:59.019502Z",
     "start_time": "2018-10-31T13:23:58.998842Z"
    }
   },
   "outputs": [],
   "source": [
    "model.compile(optimizer = optimizers.RMSprop(lr=1e-4),\n",
    "              loss = 'binary_crossentropy',\n",
    "              metrics = ['accuracy'])\n"
   ]
  },
  {
   "cell_type": "markdown",
   "metadata": {},
   "source": [
    "## 数据预处理"
   ]
  },
  {
   "cell_type": "markdown",
   "metadata": {},
   "source": [
    "* 读取图像文件\n",
    "* 将JEPG文件解码为RGB像素网格\n",
    "* 将这些像素网格转换称浮点数张量\n",
    "* 将像素值(0~255范围内)缩放到[0-1]区间内"
   ]
  },
  {
   "cell_type": "markdown",
   "metadata": {},
   "source": [
    "### 使用ImageDataGenerator从目录中读取图像"
   ]
  },
  {
   "cell_type": "code",
   "execution_count": 31,
   "metadata": {
    "ExecuteTime": {
     "end_time": "2018-10-31T13:27:54.277947Z",
     "start_time": "2018-10-31T13:27:54.274386Z"
    }
   },
   "outputs": [],
   "source": [
    "from keras.preprocessing.image import ImageDataGenerator"
   ]
  },
  {
   "cell_type": "code",
   "execution_count": 32,
   "metadata": {
    "ExecuteTime": {
     "end_time": "2018-10-31T13:32:16.886660Z",
     "start_time": "2018-10-31T13:32:16.669671Z"
    }
   },
   "outputs": [
    {
     "name": "stdout",
     "output_type": "stream",
     "text": [
      "Found 2000 images belonging to 2 classes.\n",
      "Found 1000 images belonging to 2 classes.\n"
     ]
    }
   ],
   "source": [
    "train_datagen = ImageDataGenerator(rescale=1./255)\n",
    "test_datagen = ImageDataGenerator(rescale=1./255)\n",
    "\n",
    "# 将目标目录下的所有图像的大小调整为150x150\n",
    "train_generator = train_datagen.flow_from_directory(train_dir,\n",
    "                                                    target_size = (150, 150),\n",
    "                                                    batch_size = 20,\n",
    "                                                    class_mode = 'binary')\n",
    "\n",
    "validation_generator = test_datagen.flow_from_directory(validation_dir,\n",
    "                                                        target_size = (150, 150),\n",
    "                                                        batch_size = 20,\n",
    "                                                        class_mode = 'binary')"
   ]
  },
  {
   "cell_type": "code",
   "execution_count": 33,
   "metadata": {
    "ExecuteTime": {
     "end_time": "2018-11-01T08:10:28.112503Z",
     "start_time": "2018-11-01T08:10:27.908396Z"
    }
   },
   "outputs": [
    {
     "name": "stdout",
     "output_type": "stream",
     "text": [
      "data batch_shape:  (20, 150, 150, 3)\n",
      "label batch_shape:  (20,)\n"
     ]
    }
   ],
   "source": [
    "for data_batch, label_batch in train_generator:\n",
    "    print(\"data batch_shape: \", data_batch.shape)\n",
    "    print(\"label batch_shape: \", label_batch.shape)\n",
    "    break"
   ]
  },
  {
   "cell_type": "markdown",
   "metadata": {},
   "source": [
    "### 使用批量生成器拟合模型"
   ]
  },
  {
   "cell_type": "code",
   "execution_count": 34,
   "metadata": {
    "ExecuteTime": {
     "end_time": "2018-11-01T09:14:53.774298Z",
     "start_time": "2018-11-01T08:35:03.556401Z"
    }
   },
   "outputs": [
    {
     "name": "stdout",
     "output_type": "stream",
     "text": [
      "Epoch 1/30\n",
      "100/100 [==============================] - 86s 856ms/step - loss: 0.6910 - acc: 0.5475 - val_loss: 0.6737 - val_acc: 0.5970\n",
      "Epoch 2/30\n",
      "100/100 [==============================] - 78s 784ms/step - loss: 0.6535 - acc: 0.6155 - val_loss: 0.6555 - val_acc: 0.5960\n",
      "Epoch 3/30\n",
      "100/100 [==============================] - 79s 788ms/step - loss: 0.6134 - acc: 0.6585 - val_loss: 0.6151 - val_acc: 0.6490\n",
      "Epoch 4/30\n",
      "100/100 [==============================] - 90s 896ms/step - loss: 0.5696 - acc: 0.6935 - val_loss: 0.6310 - val_acc: 0.6530\n",
      "Epoch 5/30\n",
      "100/100 [==============================] - 81s 809ms/step - loss: 0.5482 - acc: 0.7180 - val_loss: 0.5822 - val_acc: 0.6740\n",
      "Epoch 6/30\n",
      "100/100 [==============================] - 77s 775ms/step - loss: 0.5207 - acc: 0.7380 - val_loss: 0.5612 - val_acc: 0.7030\n",
      "Epoch 7/30\n",
      "100/100 [==============================] - 77s 774ms/step - loss: 0.4963 - acc: 0.7590 - val_loss: 0.5623 - val_acc: 0.7010\n",
      "Epoch 8/30\n",
      "100/100 [==============================] - 79s 795ms/step - loss: 0.4700 - acc: 0.7810 - val_loss: 0.5831 - val_acc: 0.6980\n",
      "Epoch 9/30\n",
      "100/100 [==============================] - 81s 814ms/step - loss: 0.4433 - acc: 0.7915 - val_loss: 0.5623 - val_acc: 0.7050\n",
      "Epoch 10/30\n",
      "100/100 [==============================] - 83s 827ms/step - loss: 0.4164 - acc: 0.8185 - val_loss: 0.5568 - val_acc: 0.7120\n",
      "Epoch 11/30\n",
      "100/100 [==============================] - 78s 778ms/step - loss: 0.3953 - acc: 0.8175 - val_loss: 0.5402 - val_acc: 0.7190\n",
      "Epoch 12/30\n",
      "100/100 [==============================] - 80s 795ms/step - loss: 0.3716 - acc: 0.8400 - val_loss: 0.5550 - val_acc: 0.7330\n",
      "Epoch 13/30\n",
      "100/100 [==============================] - 81s 807ms/step - loss: 0.3467 - acc: 0.8480 - val_loss: 0.5647 - val_acc: 0.7330\n",
      "Epoch 14/30\n",
      "100/100 [==============================] - 80s 804ms/step - loss: 0.3221 - acc: 0.8620 - val_loss: 0.6235 - val_acc: 0.7280\n",
      "Epoch 15/30\n",
      "100/100 [==============================] - 79s 785ms/step - loss: 0.3054 - acc: 0.8735 - val_loss: 0.6343 - val_acc: 0.7200\n",
      "Epoch 16/30\n",
      "100/100 [==============================] - 78s 782ms/step - loss: 0.2735 - acc: 0.8895 - val_loss: 0.5715 - val_acc: 0.7410\n",
      "Epoch 17/30\n",
      "100/100 [==============================] - 78s 782ms/step - loss: 0.2548 - acc: 0.9020 - val_loss: 0.6067 - val_acc: 0.7220\n",
      "Epoch 18/30\n",
      "100/100 [==============================] - 81s 807ms/step - loss: 0.2344 - acc: 0.9125 - val_loss: 0.6930 - val_acc: 0.6990\n",
      "Epoch 19/30\n",
      "100/100 [==============================] - 78s 782ms/step - loss: 0.2087 - acc: 0.9265 - val_loss: 0.6422 - val_acc: 0.7330\n",
      "Epoch 20/30\n",
      "100/100 [==============================] - 78s 783ms/step - loss: 0.1868 - acc: 0.9310 - val_loss: 0.6929 - val_acc: 0.7330\n",
      "Epoch 21/30\n",
      "100/100 [==============================] - 80s 802ms/step - loss: 0.1667 - acc: 0.9420 - val_loss: 0.6830 - val_acc: 0.7240\n",
      "Epoch 22/30\n",
      "100/100 [==============================] - 78s 783ms/step - loss: 0.1428 - acc: 0.9535 - val_loss: 0.7411 - val_acc: 0.7370\n",
      "Epoch 23/30\n",
      "100/100 [==============================] - 78s 783ms/step - loss: 0.1321 - acc: 0.9620 - val_loss: 0.7957 - val_acc: 0.7310\n",
      "Epoch 24/30\n",
      "100/100 [==============================] - 78s 783ms/step - loss: 0.1116 - acc: 0.9675 - val_loss: 0.8808 - val_acc: 0.7190\n",
      "Epoch 25/30\n",
      "100/100 [==============================] - 81s 807ms/step - loss: 0.0973 - acc: 0.9685 - val_loss: 0.8761 - val_acc: 0.7000\n",
      "Epoch 26/30\n",
      "100/100 [==============================] - 78s 783ms/step - loss: 0.0838 - acc: 0.9750 - val_loss: 1.3341 - val_acc: 0.6630\n",
      "Epoch 27/30\n",
      "100/100 [==============================] - 78s 783ms/step - loss: 0.0708 - acc: 0.9790 - val_loss: 0.9692 - val_acc: 0.7150\n",
      "Epoch 28/30\n",
      "100/100 [==============================] - 78s 783ms/step - loss: 0.0631 - acc: 0.9825 - val_loss: 1.0141 - val_acc: 0.7160\n",
      "Epoch 29/30\n",
      "100/100 [==============================] - 78s 783ms/step - loss: 0.0500 - acc: 0.9855 - val_loss: 1.1841 - val_acc: 0.7310\n",
      "Epoch 30/30\n",
      "100/100 [==============================] - 78s 783ms/step - loss: 0.0521 - acc: 0.9835 - val_loss: 1.0681 - val_acc: 0.7200\n"
     ]
    }
   ],
   "source": [
    "history = model.fit_generator(train_generator,\n",
    "                              steps_per_epoch = 100,\n",
    "                              epochs = 30,\n",
    "                              validation_data = validation_generator,\n",
    "                              validation_steps = 50)"
   ]
  },
  {
   "cell_type": "markdown",
   "metadata": {},
   "source": [
    "**在训练完成后保存模型**"
   ]
  },
  {
   "cell_type": "code",
   "execution_count": 35,
   "metadata": {
    "ExecuteTime": {
     "end_time": "2018-11-01T09:19:46.953430Z",
     "start_time": "2018-11-01T09:19:46.844467Z"
    }
   },
   "outputs": [],
   "source": [
    "model.save('cats_and_dogs_small_1.h5')"
   ]
  },
  {
   "cell_type": "markdown",
   "metadata": {},
   "source": [
    "### 绘制训练过程中的损失曲线和精度曲线"
   ]
  },
  {
   "cell_type": "code",
   "execution_count": 37,
   "metadata": {
    "ExecuteTime": {
     "end_time": "2018-11-01T09:31:58.138047Z",
     "start_time": "2018-11-01T09:31:57.925878Z"
    }
   },
   "outputs": [
    {
     "data": {
      "image/png": "[encoded data removed]",
      "text/plain": [
       "<Figure size 432x288 with 1 Axes>"
      ]
     },
     "metadata": {
      "needs_background": "light"
     },
     "output_type": "display_data"
    },
    {
     "data": {
      "image/png": "[encoded data removed]",
      "text/plain": [
       "<Figure size 432x288 with 1 Axes>"
      ]
     },
     "metadata": {
      "needs_background": "light"
     },
     "output_type": "display_data"
    }
   ],
   "source": [
    "import matplotlib.pyplot as plt\n",
    "\n",
    "history_list = history.history\n",
    "acc = history_list['acc']\n",
    "val_acc = history_list['val_acc']\n",
    "loss = history_list['loss']\n",
    "val_loss = history_list['val_loss']\n",
    "\n",
    "epochs = range(1, len(acc) + 1)\n",
    "\n",
    "plt.plot(epochs, acc, 'bo', label = 'Training acc')\n",
    "plt.plot(epochs, val_acc, 'b', label = 'Valadation acc')\n",
    "plt.title('Training and Validaiton Accuracy')\n",
    "plt.legend()\n",
    "\n",
    "plt.figure()\n",
    "\n",
    "plt.plot(epochs, loss, 'bo', label = 'Training loss')\n",
    "plt.plot(epochs, val_loss, 'b', label = 'Validation loss')\n",
    "plt.title('Training and Validation Loss')\n",
    "plt.legend()\n",
    "\n",
    "plt.show()"
   ]
  },
  {
   "cell_type": "code",
   "execution_count": null,
   "metadata": {},
   "outputs": [],
   "source": []
  }
 ],
 "metadata": {
  "kernelspec": {
   "display_name": "Python 3",
   "language": "python",
   "name": "python3"
  },
  "language_info": {
   "codemirror_mode": {
    "name": "ipython",
    "version": 3
   },
   "file_extension": ".py",
   "mimetype": "text/x-python",
   "name": "python",
   "nbconvert_exporter": "python",
   "pygments_lexer": "ipython3",
   "version": "3.5.2"
  }
 },
 "nbformat": 4,
 "nbformat_minor": 2
}
