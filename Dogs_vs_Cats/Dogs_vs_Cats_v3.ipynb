{
 "cells": [
  {
   "cell_type": "markdown",
   "metadata": {},
   "source": [
    "# 猫狗识别 V3"
   ]
  },
  {
   "cell_type": "markdown",
   "metadata": {},
   "source": [
    "## 优化模型"
   ]
  },
  {
   "cell_type": "markdown",
   "metadata": {},
   "source": [
    "#### 定义一个包含dropout的新卷积神经网络"
   ]
  },
  {
   "cell_type": "code",
   "execution_count": 1,
   "metadata": {
    "ExecuteTime": {
     "end_time": "2018-11-05T11:44:49.912695Z",
     "start_time": "2018-11-05T11:44:49.804920Z"
    }
   },
   "outputs": [
    {
     "name": "stderr",
     "output_type": "stream",
     "text": [
      "Using TensorFlow backend.\n"
     ]
    }
   ],
   "source": [
    "from keras import models\n",
    "from keras import layers\n",
    "from keras import optimizers\n",
    "\n",
    "model = models.Sequential()\n",
    "model.add(layers.Conv2D(32, (3,3), activation = 'relu', input_shape = (150, 150, 3)))\n",
    "model.add(layers.MaxPooling2D((2,2)))\n",
    "model.add(layers.Conv2D(64, (3,3), activation = 'relu'))\n",
    "model.add(layers.MaxPooling2D((2,2)))\n",
    "model.add(layers.Conv2D(128, (3,3), activation = 'relu'))\n",
    "model.add(layers.MaxPooling2D((2,2)))\n",
    "model.add(layers.Conv2D(128, (3,3), activation = 'relu'))\n",
    "model.add(layers.MaxPooling2D((2,2)))\n",
    "model.add(layers.Flatten())\n",
    "model.add(layers.Dropout(0.5))\n",
    "model.add(layers.Dense(512, activation = 'relu'))\n",
    "model.add(layers.Dense(1, activation = 'sigmoid'))\n",
    "\n",
    "model.compile(optimizer = optimizers.RMSprop(lr = 1e-4),\n",
    "              loss = 'binary_crossentropy',\n",
    "              metrics = ['accuracy'])\n"
   ]
  },
  {
   "cell_type": "code",
   "execution_count": 2,
   "metadata": {
    "ExecuteTime": {
     "end_time": "2018-11-05T11:44:51.220085Z",
     "start_time": "2018-11-05T11:44:51.216264Z"
    }
   },
   "outputs": [
    {
     "name": "stdout",
     "output_type": "stream",
     "text": [
      "_________________________________________________________________\n",
      "Layer (type)                 Output Shape              Param #   \n",
      "=================================================================\n",
      "conv2d_1 (Conv2D)            (None, 148, 148, 32)      896       \n",
      "_________________________________________________________________\n",
      "max_pooling2d_1 (MaxPooling2 (None, 74, 74, 32)        0         \n",
      "_________________________________________________________________\n",
      "conv2d_2 (Conv2D)            (None, 72, 72, 64)        18496     \n",
      "_________________________________________________________________\n",
      "max_pooling2d_2 (MaxPooling2 (None, 36, 36, 64)        0         \n",
      "_________________________________________________________________\n",
      "conv2d_3 (Conv2D)            (None, 34, 34, 128)       73856     \n",
      "_________________________________________________________________\n",
      "max_pooling2d_3 (MaxPooling2 (None, 17, 17, 128)       0         \n",
      "_________________________________________________________________\n",
      "conv2d_4 (Conv2D)            (None, 15, 15, 128)       147584    \n",
      "_________________________________________________________________\n",
      "max_pooling2d_4 (MaxPooling2 (None, 7, 7, 128)         0         \n",
      "_________________________________________________________________\n",
      "flatten_1 (Flatten)          (None, 6272)              0         \n",
      "_________________________________________________________________\n",
      "dropout_1 (Dropout)          (None, 6272)              0         \n",
      "_________________________________________________________________\n",
      "dense_1 (Dense)              (None, 512)               3211776   \n",
      "_________________________________________________________________\n",
      "dense_2 (Dense)              (None, 1)                 513       \n",
      "=================================================================\n",
      "Total params: 3,453,121\n",
      "Trainable params: 3,453,121\n",
      "Non-trainable params: 0\n",
      "_________________________________________________________________\n"
     ]
    }
   ],
   "source": [
    "model.summary()"
   ]
  },
  {
   "cell_type": "markdown",
   "metadata": {},
   "source": [
    "### 准备数据"
   ]
  },
  {
   "cell_type": "code",
   "execution_count": 3,
   "metadata": {},
   "outputs": [],
   "source": [
    "import PreProcess"
   ]
  },
  {
   "cell_type": "markdown",
   "metadata": {},
   "source": [
    "### 使用数据增强"
   ]
  },
  {
   "cell_type": "code",
   "execution_count": 4,
   "metadata": {},
   "outputs": [],
   "source": [
    "import DataAugment"
   ]
  },
  {
   "cell_type": "markdown",
   "metadata": {},
   "source": [
    "#### 利用数据增强生成器训练网络"
   ]
  },
  {
   "cell_type": "code",
   "execution_count": 5,
   "metadata": {},
   "outputs": [
    {
     "name": "stdout",
     "output_type": "stream",
     "text": [
      "Found 2000 images belonging to 2 classes.\n",
      "Found 1000 images belonging to 2 classes.\n",
      "Found 1000 images belonging to 2 classes.\n"
     ]
    }
   ],
   "source": [
    "train_generator, validation_generator, test_generator = DataAugment.create_dataflow()"
   ]
  },
  {
   "cell_type": "markdown",
   "metadata": {},
   "source": [
    "#### 模型拟合"
   ]
  },
  {
   "cell_type": "code",
   "execution_count": 10,
   "metadata": {},
   "outputs": [
    {
     "name": "stdout",
     "output_type": "stream",
     "text": [
      "Epoch 1/100\n",
      "100/100 [==============================] - 25s 249ms/step - loss: 0.6931 - acc: 0.5166 - val_loss: 0.6771 - val_acc: 0.5768\n",
      "Epoch 2/100\n",
      "100/100 [==============================] - 21s 213ms/step - loss: 0.6772 - acc: 0.5684 - val_loss: 0.7735 - val_acc: 0.5084\n",
      "Epoch 3/100\n",
      "100/100 [==============================] - 22s 225ms/step - loss: 0.6558 - acc: 0.5981 - val_loss: 0.6407 - val_acc: 0.6136\n",
      "Epoch 4/100\n",
      "100/100 [==============================] - 22s 216ms/step - loss: 0.6402 - acc: 0.6219 - val_loss: 0.6180 - val_acc: 0.6630\n",
      "Epoch 5/100\n",
      "100/100 [==============================] - 23s 226ms/step - loss: 0.6200 - acc: 0.6534 - val_loss: 0.6164 - val_acc: 0.6307\n",
      "Epoch 6/100\n",
      "100/100 [==============================] - 25s 245ms/step - loss: 0.6141 - acc: 0.6541 - val_loss: 0.6004 - val_acc: 0.6591\n",
      "Epoch 7/100\n",
      "100/100 [==============================] - 21s 215ms/step - loss: 0.6018 - acc: 0.6737 - val_loss: 0.5709 - val_acc: 0.6891\n",
      "Epoch 8/100\n",
      "100/100 [==============================] - 24s 236ms/step - loss: 0.5910 - acc: 0.6863 - val_loss: 0.6383 - val_acc: 0.6617\n",
      "Epoch 9/100\n",
      "100/100 [==============================] - 23s 227ms/step - loss: 0.5868 - acc: 0.6909 - val_loss: 0.6329 - val_acc: 0.6385\n",
      "Epoch 10/100\n",
      "100/100 [==============================] - 21s 212ms/step - loss: 0.5686 - acc: 0.7041 - val_loss: 0.6096 - val_acc: 0.6720\n",
      "Epoch 11/100\n",
      "100/100 [==============================] - 24s 236ms/step - loss: 0.5660 - acc: 0.7088 - val_loss: 0.5355 - val_acc: 0.7242\n",
      "Epoch 12/100\n",
      "100/100 [==============================] - 23s 227ms/step - loss: 0.5655 - acc: 0.7028 - val_loss: 0.5398 - val_acc: 0.7145\n",
      "Epoch 13/100\n",
      "100/100 [==============================] - 23s 231ms/step - loss: 0.5640 - acc: 0.7078 - val_loss: 0.5383 - val_acc: 0.7107\n",
      "Epoch 14/100\n",
      "100/100 [==============================] - 21s 214ms/step - loss: 0.5496 - acc: 0.7141 - val_loss: 0.5100 - val_acc: 0.7443\n",
      "Epoch 15/100\n",
      "100/100 [==============================] - 24s 236ms/step - loss: 0.5414 - acc: 0.7222 - val_loss: 0.5812 - val_acc: 0.7062\n",
      "Epoch 16/100\n",
      "100/100 [==============================] - 23s 227ms/step - loss: 0.5459 - acc: 0.7216 - val_loss: 0.5184 - val_acc: 0.7474\n",
      "Epoch 17/100\n",
      "100/100 [==============================] - 21s 211ms/step - loss: 0.5399 - acc: 0.7288 - val_loss: 0.5110 - val_acc: 0.7335\n",
      "Epoch 18/100\n",
      "100/100 [==============================] - 25s 246ms/step - loss: 0.5169 - acc: 0.7425 - val_loss: 0.5284 - val_acc: 0.7274\n",
      "Epoch 19/100\n",
      "100/100 [==============================] - 23s 228ms/step - loss: 0.5371 - acc: 0.7316 - val_loss: 0.5111 - val_acc: 0.7398\n",
      "Epoch 20/100\n",
      "100/100 [==============================] - 22s 216ms/step - loss: 0.5151 - acc: 0.7541 - val_loss: 0.5165 - val_acc: 0.7210\n",
      "Epoch 21/100\n",
      "100/100 [==============================] - 23s 226ms/step - loss: 0.5221 - acc: 0.7319 - val_loss: 0.5509 - val_acc: 0.6942\n",
      "Epoch 22/100\n",
      "100/100 [==============================] - 23s 232ms/step - loss: 0.5144 - acc: 0.7434 - val_loss: 0.4995 - val_acc: 0.7545\n",
      "Epoch 23/100\n",
      "100/100 [==============================] - 23s 227ms/step - loss: 0.5100 - acc: 0.7506 - val_loss: 0.5465 - val_acc: 0.7373\n",
      "Epoch 24/100\n",
      "100/100 [==============================] - 24s 236ms/step - loss: 0.5090 - acc: 0.7472 - val_loss: 0.5354 - val_acc: 0.7352\n",
      "Epoch 25/100\n",
      "100/100 [==============================] - 23s 227ms/step - loss: 0.5020 - acc: 0.7466 - val_loss: 0.5173 - val_acc: 0.7345\n",
      "Epoch 26/100\n",
      "100/100 [==============================] - 21s 213ms/step - loss: 0.5095 - acc: 0.7456 - val_loss: 0.5697 - val_acc: 0.7107\n",
      "Epoch 27/100\n",
      "100/100 [==============================] - 23s 227ms/step - loss: 0.4929 - acc: 0.7656 - val_loss: 0.4763 - val_acc: 0.7674\n",
      "Epoch 28/100\n",
      "100/100 [==============================] - 23s 233ms/step - loss: 0.4980 - acc: 0.7522 - val_loss: 0.5221 - val_acc: 0.7418\n",
      "Epoch 29/100\n",
      "100/100 [==============================] - 22s 217ms/step - loss: 0.4993 - acc: 0.7597 - val_loss: 0.4932 - val_acc: 0.7764\n",
      "Epoch 30/100\n",
      "100/100 [==============================] - 23s 229ms/step - loss: 0.4838 - acc: 0.7697 - val_loss: 0.4747 - val_acc: 0.7741\n",
      "Epoch 31/100\n",
      "100/100 [==============================] - 23s 234ms/step - loss: 0.4818 - acc: 0.7650 - val_loss: 0.4899 - val_acc: 0.7610\n",
      "Epoch 32/100\n",
      "100/100 [==============================] - 21s 211ms/step - loss: 0.4718 - acc: 0.7791 - val_loss: 0.4815 - val_acc: 0.7732\n",
      "Epoch 33/100\n",
      "100/100 [==============================] - 23s 229ms/step - loss: 0.4824 - acc: 0.7650 - val_loss: 0.5014 - val_acc: 0.7481\n",
      "Epoch 34/100\n",
      "100/100 [==============================] - 23s 225ms/step - loss: 0.4687 - acc: 0.7781 - val_loss: 0.4514 - val_acc: 0.7996\n",
      "Epoch 35/100\n",
      "100/100 [==============================] - 23s 231ms/step - loss: 0.4806 - acc: 0.7666 - val_loss: 0.4615 - val_acc: 0.7881\n",
      "Epoch 36/100\n",
      "100/100 [==============================] - 23s 232ms/step - loss: 0.4670 - acc: 0.7734 - val_loss: 0.4633 - val_acc: 0.7822\n",
      "Epoch 37/100\n",
      "100/100 [==============================] - 23s 227ms/step - loss: 0.4541 - acc: 0.7834 - val_loss: 0.4567 - val_acc: 0.7989\n",
      "Epoch 38/100\n",
      "100/100 [==============================] - 22s 223ms/step - loss: 0.4636 - acc: 0.7834 - val_loss: 0.4917 - val_acc: 0.7545\n",
      "Epoch 39/100\n",
      "100/100 [==============================] - 23s 227ms/step - loss: 0.4602 - acc: 0.7841 - val_loss: 0.4815 - val_acc: 0.7671\n",
      "Epoch 40/100\n",
      "100/100 [==============================] - 25s 250ms/step - loss: 0.4572 - acc: 0.7875 - val_loss: 0.5615 - val_acc: 0.7274\n",
      "Epoch 41/100\n",
      "100/100 [==============================] - 21s 213ms/step - loss: 0.4698 - acc: 0.7778 - val_loss: 0.5154 - val_acc: 0.7603\n",
      "Epoch 42/100\n",
      "100/100 [==============================] - 23s 227ms/step - loss: 0.4550 - acc: 0.7812 - val_loss: 0.4571 - val_acc: 0.7906\n",
      "Epoch 43/100\n",
      "100/100 [==============================] - 23s 229ms/step - loss: 0.4533 - acc: 0.7841 - val_loss: 0.4564 - val_acc: 0.7880\n",
      "Epoch 44/100\n",
      "100/100 [==============================] - 21s 212ms/step - loss: 0.4496 - acc: 0.7913 - val_loss: 0.4512 - val_acc: 0.7792\n",
      "Epoch 45/100\n",
      "100/100 [==============================] - 24s 236ms/step - loss: 0.4469 - acc: 0.7906 - val_loss: 0.4645 - val_acc: 0.7790\n",
      "Epoch 46/100\n",
      "100/100 [==============================] - 23s 226ms/step - loss: 0.4362 - acc: 0.7991 - val_loss: 0.6118 - val_acc: 0.7329\n",
      "Epoch 47/100\n",
      "100/100 [==============================] - 22s 221ms/step - loss: 0.4470 - acc: 0.7878 - val_loss: 0.4966 - val_acc: 0.7655\n",
      "Epoch 48/100\n",
      "100/100 [==============================] - 23s 225ms/step - loss: 0.4378 - acc: 0.7987 - val_loss: 0.4723 - val_acc: 0.7906\n",
      "Epoch 49/100\n",
      "100/100 [==============================] - 23s 227ms/step - loss: 0.4395 - acc: 0.7988 - val_loss: 0.4526 - val_acc: 0.7849\n",
      "Epoch 50/100\n",
      "100/100 [==============================] - 21s 214ms/step - loss: 0.4386 - acc: 0.7934 - val_loss: 0.5077 - val_acc: 0.7455\n",
      "Epoch 51/100\n",
      "100/100 [==============================] - 23s 226ms/step - loss: 0.4323 - acc: 0.7909 - val_loss: 0.5055 - val_acc: 0.7538\n",
      "Epoch 52/100\n",
      "100/100 [==============================] - 25s 246ms/step - loss: 0.4196 - acc: 0.8100 - val_loss: 0.4713 - val_acc: 0.7983\n",
      "Epoch 53/100\n",
      "100/100 [==============================] - 22s 215ms/step - loss: 0.4309 - acc: 0.7934 - val_loss: 0.4592 - val_acc: 0.7728\n",
      "Epoch 54/100\n",
      "100/100 [==============================] - 23s 232ms/step - loss: 0.4096 - acc: 0.8034 - val_loss: 0.5259 - val_acc: 0.7635\n",
      "Epoch 55/100\n",
      "100/100 [==============================] - 23s 225ms/step - loss: 0.4268 - acc: 0.8059 - val_loss: 0.4527 - val_acc: 0.7912\n",
      "Epoch 56/100\n",
      "100/100 [==============================] - 22s 222ms/step - loss: 0.4224 - acc: 0.8034 - val_loss: 0.4317 - val_acc: 0.8015\n",
      "Epoch 57/100\n",
      "100/100 [==============================] - 24s 237ms/step - loss: 0.4123 - acc: 0.8034 - val_loss: 0.4411 - val_acc: 0.8144\n",
      "Epoch 58/100\n",
      "100/100 [==============================] - 23s 230ms/step - loss: 0.4137 - acc: 0.8103 - val_loss: 0.4354 - val_acc: 0.8046\n",
      "Epoch 59/100\n",
      "100/100 [==============================] - 22s 215ms/step - loss: 0.4192 - acc: 0.8013 - val_loss: 0.4413 - val_acc: 0.8061\n",
      "Epoch 60/100\n",
      "100/100 [==============================] - 23s 227ms/step - loss: 0.4040 - acc: 0.8140 - val_loss: 0.4316 - val_acc: 0.8103\n"
     ]
    },
    {
     "name": "stdout",
     "output_type": "stream",
     "text": [
      "Epoch 61/100\n",
      "100/100 [==============================] - 23s 231ms/step - loss: 0.4160 - acc: 0.8088 - val_loss: 0.4137 - val_acc: 0.8131\n",
      "Epoch 62/100\n",
      "100/100 [==============================] - 21s 214ms/step - loss: 0.4057 - acc: 0.8128 - val_loss: 0.4483 - val_acc: 0.8071\n",
      "Epoch 63/100\n",
      "100/100 [==============================] - 23s 234ms/step - loss: 0.3947 - acc: 0.8175 - val_loss: 0.4594 - val_acc: 0.7861\n",
      "Epoch 64/100\n",
      "100/100 [==============================] - 23s 226ms/step - loss: 0.4095 - acc: 0.8116 - val_loss: 0.4410 - val_acc: 0.8009\n",
      "Epoch 65/100\n",
      "100/100 [==============================] - 21s 213ms/step - loss: 0.3927 - acc: 0.8256 - val_loss: 0.5099 - val_acc: 0.7817\n",
      "Epoch 66/100\n",
      "100/100 [==============================] - 23s 229ms/step - loss: 0.4013 - acc: 0.8166 - val_loss: 0.4035 - val_acc: 0.8293\n",
      "Epoch 67/100\n",
      "100/100 [==============================] - 23s 228ms/step - loss: 0.3972 - acc: 0.8141 - val_loss: 0.4309 - val_acc: 0.8135\n",
      "Epoch 68/100\n",
      "100/100 [==============================] - 21s 215ms/step - loss: 0.4036 - acc: 0.8116 - val_loss: 0.5563 - val_acc: 0.7532\n",
      "Epoch 69/100\n",
      "100/100 [==============================] - 24s 239ms/step - loss: 0.3895 - acc: 0.8225 - val_loss: 0.4248 - val_acc: 0.8160\n",
      "Epoch 70/100\n",
      "100/100 [==============================] - 23s 234ms/step - loss: 0.3830 - acc: 0.8316 - val_loss: 0.5012 - val_acc: 0.7822\n",
      "Epoch 71/100\n",
      "100/100 [==============================] - 21s 213ms/step - loss: 0.3812 - acc: 0.8241 - val_loss: 0.4972 - val_acc: 0.7970\n",
      "Epoch 72/100\n",
      "100/100 [==============================] - 24s 237ms/step - loss: 0.3869 - acc: 0.8328 - val_loss: 0.4931 - val_acc: 0.7816\n",
      "Epoch 73/100\n",
      "100/100 [==============================] - 22s 225ms/step - loss: 0.3851 - acc: 0.8297 - val_loss: 0.4241 - val_acc: 0.8099\n",
      "Epoch 74/100\n",
      "100/100 [==============================] - 22s 222ms/step - loss: 0.3821 - acc: 0.8300 - val_loss: 0.4362 - val_acc: 0.8008\n",
      "Epoch 75/100\n",
      "100/100 [==============================] - 23s 228ms/step - loss: 0.3854 - acc: 0.8281 - val_loss: 0.4661 - val_acc: 0.8086\n",
      "Epoch 76/100\n",
      "100/100 [==============================] - 23s 226ms/step - loss: 0.3817 - acc: 0.8228 - val_loss: 0.4426 - val_acc: 0.7849\n",
      "Epoch 77/100\n",
      "100/100 [==============================] - 22s 219ms/step - loss: 0.3755 - acc: 0.8291 - val_loss: 0.5164 - val_acc: 0.7816\n",
      "Epoch 78/100\n",
      "100/100 [==============================] - 23s 226ms/step - loss: 0.3729 - acc: 0.8281 - val_loss: 0.4572 - val_acc: 0.7931\n",
      "Epoch 79/100\n",
      "100/100 [==============================] - 24s 236ms/step - loss: 0.3683 - acc: 0.8353 - val_loss: 0.4091 - val_acc: 0.8228\n",
      "Epoch 80/100\n",
      "100/100 [==============================] - 21s 209ms/step - loss: 0.3710 - acc: 0.8381 - val_loss: 0.4446 - val_acc: 0.7996\n",
      "Epoch 81/100\n",
      "100/100 [==============================] - 24s 245ms/step - loss: 0.3682 - acc: 0.8387 - val_loss: 0.4171 - val_acc: 0.8242\n",
      "Epoch 82/100\n",
      "100/100 [==============================] - 23s 229ms/step - loss: 0.3707 - acc: 0.8334 - val_loss: 0.3863 - val_acc: 0.8131\n",
      "Epoch 83/100\n",
      "100/100 [==============================] - 21s 212ms/step - loss: 0.3568 - acc: 0.8356 - val_loss: 0.4334 - val_acc: 0.7931\n",
      "Epoch 84/100\n",
      "100/100 [==============================] - 23s 230ms/step - loss: 0.3738 - acc: 0.8306 - val_loss: 0.5012 - val_acc: 0.7874\n",
      "Epoch 85/100\n",
      "100/100 [==============================] - 22s 224ms/step - loss: 0.3591 - acc: 0.8394 - val_loss: 0.4584 - val_acc: 0.8008\n",
      "Epoch 86/100\n",
      "100/100 [==============================] - 23s 232ms/step - loss: 0.3583 - acc: 0.8344 - val_loss: 0.4085 - val_acc: 0.8260\n",
      "Epoch 87/100\n",
      "100/100 [==============================] - 23s 227ms/step - loss: 0.3545 - acc: 0.8397 - val_loss: 0.4283 - val_acc: 0.8204\n",
      "Epoch 88/100\n",
      "100/100 [==============================] - 24s 236ms/step - loss: 0.3678 - acc: 0.8428 - val_loss: 0.3824 - val_acc: 0.8177\n",
      "Epoch 89/100\n",
      "100/100 [==============================] - 21s 214ms/step - loss: 0.3399 - acc: 0.8453 - val_loss: 0.4729 - val_acc: 0.7912\n",
      "Epoch 90/100\n",
      "100/100 [==============================] - 23s 227ms/step - loss: 0.3410 - acc: 0.8487 - val_loss: 0.4023 - val_acc: 0.8115\n",
      "Epoch 91/100\n",
      "100/100 [==============================] - 23s 233ms/step - loss: 0.3521 - acc: 0.8441 - val_loss: 0.4205 - val_acc: 0.8054\n",
      "Epoch 92/100\n",
      "100/100 [==============================] - 21s 214ms/step - loss: 0.3447 - acc: 0.8478 - val_loss: 0.4054 - val_acc: 0.8211\n",
      "Epoch 93/100\n",
      "100/100 [==============================] - 23s 231ms/step - loss: 0.3490 - acc: 0.8422 - val_loss: 0.3821 - val_acc: 0.8357\n",
      "Epoch 94/100\n",
      "100/100 [==============================] - 23s 227ms/step - loss: 0.3323 - acc: 0.8469 - val_loss: 0.4666 - val_acc: 0.8071\n",
      "Epoch 95/100\n",
      "100/100 [==============================] - 22s 221ms/step - loss: 0.3578 - acc: 0.8369 - val_loss: 0.4151 - val_acc: 0.8267\n",
      "Epoch 96/100\n",
      "100/100 [==============================] - 22s 224ms/step - loss: 0.3385 - acc: 0.8516 - val_loss: 0.4739 - val_acc: 0.8086\n",
      "Epoch 97/100\n",
      "100/100 [==============================] - 23s 226ms/step - loss: 0.3205 - acc: 0.8675 - val_loss: 0.4550 - val_acc: 0.8058\n",
      "Epoch 98/100\n",
      "100/100 [==============================] - 23s 229ms/step - loss: 0.3248 - acc: 0.8553 - val_loss: 0.4407 - val_acc: 0.8170\n",
      "Epoch 99/100\n",
      "100/100 [==============================] - 23s 226ms/step - loss: 0.3437 - acc: 0.8459 - val_loss: 0.4266 - val_acc: 0.8160\n",
      "Epoch 100/100\n",
      "100/100 [==============================] - 23s 229ms/step - loss: 0.3371 - acc: 0.8503 - val_loss: 0.4282 - val_acc: 0.8196\n"
     ]
    }
   ],
   "source": [
    "history = model.fit_generator(\n",
    "    train_generator,\n",
    "    steps_per_epoch = 100,\n",
    "    epochs = 100,\n",
    "    validation_data = validation_generator,\n",
    "    validation_steps = 50)"
   ]
  },
  {
   "cell_type": "markdown",
   "metadata": {},
   "source": [
    "#### 保存训练好的模型"
   ]
  },
  {
   "cell_type": "code",
   "execution_count": 11,
   "metadata": {},
   "outputs": [],
   "source": [
    "model.save('cats_and_dogs_small_2.h5')"
   ]
  },
  {
   "cell_type": "markdown",
   "metadata": {},
   "source": [
    "#### 描绘训练结果"
   ]
  },
  {
   "cell_type": "code",
   "execution_count": 12,
   "metadata": {},
   "outputs": [
    {
     "data": {
      "image/png": "[encoded data removed]",
      "text/plain": [
       "<Figure size 432x288 with 1 Axes>"
      ]
     },
     "metadata": {
      "needs_background": "light"
     },
     "output_type": "display_data"
    },
    {
     "data": {
      "image/png": "[encoded data removed]",
      "text/plain": [
       "<Figure size 432x288 with 1 Axes>"
      ]
     },
     "metadata": {
      "needs_background": "light"
     },
     "output_type": "display_data"
    }
   ],
   "source": [
    "history_list = history.history\n",
    "acc = history_list['acc']\n",
    "val_acc = history_list['val_acc']\n",
    "loss = history_list['loss']\n",
    "val_loss = history_list['val_loss']\n",
    "\n",
    "epochs = range(1, len(acc) + 1)\n",
    "\n",
    "plt.plot(epochs, acc, 'bo', label = 'Training acc')\n",
    "plt.plot(epochs, val_acc, 'r', label = 'Valadation acc')\n",
    "plt.title('Training and Validaiton Accuracy')\n",
    "plt.legend()\n",
    "\n",
    "plt.figure()\n",
    "\n",
    "plt.plot(epochs, loss, 'bo', label = 'Training loss')\n",
    "plt.plot(epochs, val_loss, 'r', label = 'Validation loss')\n",
    "plt.title('Training and Validation Loss')\n",
    "plt.legend()\n",
    "\n",
    "plt.show()"
   ]
  },
  {
   "cell_type": "markdown",
   "metadata": {},
   "source": [
    "## 使用预训练的卷积神经网络"
   ]
  },
  {
   "cell_type": "markdown",
   "metadata": {
    "ExecuteTime": {
     "end_time": "2018-11-05T12:05:01.026418Z",
     "start_time": "2018-11-05T11:49:40.766Z"
    }
   },
   "source": [
    "想要将深度学习应用与小型图像数据集,一种常用且非常高校的方法是使用预训练网络.\n",
    "\n",
    "预训练网络(pretrained network)是一个保存我好的网络,之前已在大型数据集(通常是大规模图像分类任务上训练好).\n",
    "\n",
    "如果这个原始数据集足够大且足够通用,那么预训练网络学到的特征的空间层级结构可以有效地作为世界的通用模型,因此这些特征可用于各种不同的计算机视觉问题.\n",
    "\n"
   ]
  },
  {
   "cell_type": "markdown",
   "metadata": {},
   "source": [
    "使用预训练网络有两张方法:**特征提取**(feature extraction)和**微调模型**(fine tuning)."
   ]
  },
  {
   "cell_type": "markdown",
   "metadata": {},
   "source": [
    "#### 将VGG16卷积基实例化"
   ]
  },
  {
   "cell_type": "code",
   "execution_count": 6,
   "metadata": {},
   "outputs": [],
   "source": [
    "from keras.applications import VGG16\n",
    "\n",
    "conv_base = VGG16(weights = 'imagenet',\n",
    "                  include_top = False,\n",
    "                  input_shape = (150, 150, 3))"
   ]
  },
  {
   "cell_type": "code",
   "execution_count": 7,
   "metadata": {},
   "outputs": [
    {
     "name": "stdout",
     "output_type": "stream",
     "text": [
      "_________________________________________________________________\n",
      "Layer (type)                 Output Shape              Param #   \n",
      "=================================================================\n",
      "input_1 (InputLayer)         (None, 150, 150, 3)       0         \n",
      "_________________________________________________________________\n",
      "block1_conv1 (Conv2D)        (None, 150, 150, 64)      1792      \n",
      "_________________________________________________________________\n",
      "block1_conv2 (Conv2D)        (None, 150, 150, 64)      36928     \n",
      "_________________________________________________________________\n",
      "block1_pool (MaxPooling2D)   (None, 75, 75, 64)        0         \n",
      "_________________________________________________________________\n",
      "block2_conv1 (Conv2D)        (None, 75, 75, 128)       73856     \n",
      "_________________________________________________________________\n",
      "block2_conv2 (Conv2D)        (None, 75, 75, 128)       147584    \n",
      "_________________________________________________________________\n",
      "block2_pool (MaxPooling2D)   (None, 37, 37, 128)       0         \n",
      "_________________________________________________________________\n",
      "block3_conv1 (Conv2D)        (None, 37, 37, 256)       295168    \n",
      "_________________________________________________________________\n",
      "block3_conv2 (Conv2D)        (None, 37, 37, 256)       590080    \n",
      "_________________________________________________________________\n",
      "block3_conv3 (Conv2D)        (None, 37, 37, 256)       590080    \n",
      "_________________________________________________________________\n",
      "block3_pool (MaxPooling2D)   (None, 18, 18, 256)       0         \n",
      "_________________________________________________________________\n",
      "block4_conv1 (Conv2D)        (None, 18, 18, 512)       1180160   \n",
      "_________________________________________________________________\n",
      "block4_conv2 (Conv2D)        (None, 18, 18, 512)       2359808   \n",
      "_________________________________________________________________\n",
      "block4_conv3 (Conv2D)        (None, 18, 18, 512)       2359808   \n",
      "_________________________________________________________________\n",
      "block4_pool (MaxPooling2D)   (None, 9, 9, 512)         0         \n",
      "_________________________________________________________________\n",
      "block5_conv1 (Conv2D)        (None, 9, 9, 512)         2359808   \n",
      "_________________________________________________________________\n",
      "block5_conv2 (Conv2D)        (None, 9, 9, 512)         2359808   \n",
      "_________________________________________________________________\n",
      "block5_conv3 (Conv2D)        (None, 9, 9, 512)         2359808   \n",
      "_________________________________________________________________\n",
      "block5_pool (MaxPooling2D)   (None, 4, 4, 512)         0         \n",
      "=================================================================\n",
      "Total params: 14,714,688\n",
      "Trainable params: 14,714,688\n",
      "Non-trainable params: 0\n",
      "_________________________________________________________________\n"
     ]
    }
   ],
   "source": [
    "conv_base.summary()"
   ]
  },
  {
   "cell_type": "code",
   "execution_count": 9,
   "metadata": {},
   "outputs": [],
   "source": [
    "from keras.utils.vis_utils import plot_model\n",
    "plot_model(conv_base, to_file='VGG.png',show_shapes=True)"
   ]
  },
  {
   "cell_type": "markdown",
   "metadata": {},
   "source": [
    "### 1. 不使用数据增强的快速特征提取"
   ]
  },
  {
   "cell_type": "markdown",
   "metadata": {},
   "source": [
    "#### 使用预训练的卷积基提取特征"
   ]
  },
  {
   "cell_type": "code",
   "execution_count": 10,
   "metadata": {},
   "outputs": [],
   "source": [
    "import numpy as np\n",
    "from keras.preprocessing.image import ImageDataGenerator\n",
    "\n",
    "datagen = ImageDataGenerator(rescale = 1./255)\n",
    "batch_size = 20\n",
    "\n",
    "def extract_features(directory, sample_counts):\n",
    "    features = np.zeros(shape = (sample_counts, 4, 4, 512))\n",
    "    labels = np.zeros(shape = (sample_counts))\n",
    "    generator = datagen.flow_from_directory(\n",
    "        directory, \n",
    "        target_size = (150, 150),\n",
    "        batch_size = batch_size,\n",
    "        class_mode = 'binary')\n",
    "    i = 0\n",
    "    for inputs_batch, labels_batch in generator:\n",
    "        features_batch = conv_base.predict(inputs_batch)\n",
    "        features[i * batch_size : (i + 1) * batch_size] = features_batch\n",
    "        labels[i * batch_size : (i + 1) * batch_size] = labels_batch\n",
    "        i += 1\n",
    "        if i * batch_size >= sample_counts:\n",
    "            break\n",
    "    return features, labels"
   ]
  },
  {
   "cell_type": "code",
   "execution_count": 12,
   "metadata": {},
   "outputs": [
    {
     "name": "stdout",
     "output_type": "stream",
     "text": [
      "Found 2000 images belonging to 2 classes.\n",
      "Found 1000 images belonging to 2 classes.\n",
      "Found 1000 images belonging to 2 classes.\n"
     ]
    }
   ],
   "source": [
    "train_features, train_labels = extract_features(PreProcess.train_dir, 2000)\n",
    "validation_features, validation_labels = extract_features(PreProcess.validation_dir, 1000)\n",
    "test_features, test_labels = extract_features(PreProcess.test_dir, 1000)"
   ]
  },
  {
   "cell_type": "markdown",
   "metadata": {},
   "source": [
    "目前，提取的特征形状为(sample_count, 4, 4, 512)。我们要将起输入到密集链接分类器中，所以首先必须将其形状展成(sample_counts, 8192)."
   ]
  },
  {
   "cell_type": "code",
   "execution_count": 13,
   "metadata": {},
   "outputs": [],
   "source": [
    "train_features = np.reshape(train_features, (2000, 4 * 4 * 512))\n",
    "validation_features = np.reshape(validation_features, (1000, 4 * 4 * 512))\n",
    "test_features = np.reshape(test_features, (1000, 4 * 4 *512))"
   ]
  },
  {
   "cell_type": "markdown",
   "metadata": {},
   "source": [
    "#### 定义并训练密集链接分类器"
   ]
  },
  {
   "cell_type": "code",
   "execution_count": 14,
   "metadata": {},
   "outputs": [
    {
     "name": "stdout",
     "output_type": "stream",
     "text": [
      "Train on 2000 samples, validate on 1000 samples\n",
      "Epoch 1/30\n",
      "2000/2000 [==============================] - 1s 514us/step - loss: 0.6228 - acc: 0.6495 - val_loss: 0.4488 - val_acc: 0.8360\n",
      "Epoch 2/30\n",
      "2000/2000 [==============================] - 1s 410us/step - loss: 0.4230 - acc: 0.8105 - val_loss: 0.3689 - val_acc: 0.8460\n",
      "Epoch 3/30\n",
      "2000/2000 [==============================] - 1s 410us/step - loss: 0.3567 - acc: 0.8495 - val_loss: 0.3259 - val_acc: 0.8680\n",
      "Epoch 4/30\n",
      "2000/2000 [==============================] - 1s 413us/step - loss: 0.3195 - acc: 0.8695 - val_loss: 0.2997 - val_acc: 0.8870\n",
      "Epoch 5/30\n",
      "2000/2000 [==============================] - 1s 412us/step - loss: 0.2800 - acc: 0.8875 - val_loss: 0.2842 - val_acc: 0.8920\n",
      "Epoch 6/30\n",
      "2000/2000 [==============================] - 1s 413us/step - loss: 0.2648 - acc: 0.8930 - val_loss: 0.2719 - val_acc: 0.8940\n",
      "Epoch 7/30\n",
      "2000/2000 [==============================] - 1s 419us/step - loss: 0.2456 - acc: 0.9055 - val_loss: 0.2635 - val_acc: 0.9020\n",
      "Epoch 8/30\n",
      "2000/2000 [==============================] - 1s 413us/step - loss: 0.2321 - acc: 0.9075 - val_loss: 0.2574 - val_acc: 0.9040\n",
      "Epoch 9/30\n",
      "2000/2000 [==============================] - 1s 413us/step - loss: 0.2126 - acc: 0.9195 - val_loss: 0.2564 - val_acc: 0.9010\n",
      "Epoch 10/30\n",
      "2000/2000 [==============================] - 1s 408us/step - loss: 0.2066 - acc: 0.9185 - val_loss: 0.2496 - val_acc: 0.9030\n",
      "Epoch 11/30\n",
      "2000/2000 [==============================] - 1s 410us/step - loss: 0.1960 - acc: 0.9305 - val_loss: 0.2552 - val_acc: 0.8940\n",
      "Epoch 12/30\n",
      "2000/2000 [==============================] - 1s 412us/step - loss: 0.1814 - acc: 0.9360 - val_loss: 0.2415 - val_acc: 0.9070\n",
      "Epoch 13/30\n",
      "2000/2000 [==============================] - 1s 413us/step - loss: 0.1764 - acc: 0.9385 - val_loss: 0.2404 - val_acc: 0.9070\n",
      "Epoch 14/30\n",
      "2000/2000 [==============================] - 1s 411us/step - loss: 0.1680 - acc: 0.9400 - val_loss: 0.2447 - val_acc: 0.8990\n",
      "Epoch 15/30\n",
      "2000/2000 [==============================] - 1s 405us/step - loss: 0.1647 - acc: 0.9445 - val_loss: 0.2402 - val_acc: 0.9020\n",
      "Epoch 16/30\n",
      "2000/2000 [==============================] - 1s 410us/step - loss: 0.1503 - acc: 0.9465 - val_loss: 0.2365 - val_acc: 0.9070\n",
      "Epoch 17/30\n",
      "2000/2000 [==============================] - 1s 411us/step - loss: 0.1506 - acc: 0.9440 - val_loss: 0.2390 - val_acc: 0.9040\n",
      "Epoch 18/30\n",
      "2000/2000 [==============================] - 1s 410us/step - loss: 0.1495 - acc: 0.9475 - val_loss: 0.2359 - val_acc: 0.9050\n",
      "Epoch 19/30\n",
      "2000/2000 [==============================] - 1s 411us/step - loss: 0.1368 - acc: 0.9505 - val_loss: 0.2511 - val_acc: 0.8930\n",
      "Epoch 20/30\n",
      "2000/2000 [==============================] - 1s 411us/step - loss: 0.1291 - acc: 0.9545 - val_loss: 0.2383 - val_acc: 0.9020\n",
      "Epoch 21/30\n",
      "2000/2000 [==============================] - 1s 412us/step - loss: 0.1303 - acc: 0.9570 - val_loss: 0.2367 - val_acc: 0.9010\n",
      "Epoch 22/30\n",
      "2000/2000 [==============================] - 1s 409us/step - loss: 0.1176 - acc: 0.9640 - val_loss: 0.2354 - val_acc: 0.8990\n",
      "Epoch 23/30\n",
      "2000/2000 [==============================] - 1s 413us/step - loss: 0.1133 - acc: 0.9625 - val_loss: 0.2367 - val_acc: 0.9010\n",
      "Epoch 24/30\n",
      "2000/2000 [==============================] - 1s 411us/step - loss: 0.1139 - acc: 0.9640 - val_loss: 0.2368 - val_acc: 0.9010\n",
      "Epoch 25/30\n",
      "2000/2000 [==============================] - 1s 408us/step - loss: 0.1035 - acc: 0.9685 - val_loss: 0.2365 - val_acc: 0.9010\n",
      "Epoch 26/30\n",
      "2000/2000 [==============================] - 1s 411us/step - loss: 0.1013 - acc: 0.9650 - val_loss: 0.2368 - val_acc: 0.8990\n",
      "Epoch 27/30\n",
      "2000/2000 [==============================] - 1s 408us/step - loss: 0.0986 - acc: 0.9710 - val_loss: 0.2589 - val_acc: 0.8960\n",
      "Epoch 28/30\n",
      "2000/2000 [==============================] - 1s 411us/step - loss: 0.0938 - acc: 0.9695 - val_loss: 0.2376 - val_acc: 0.8990\n",
      "Epoch 29/30\n",
      "2000/2000 [==============================] - 1s 407us/step - loss: 0.0893 - acc: 0.9740 - val_loss: 0.2378 - val_acc: 0.9040\n",
      "Epoch 30/30\n",
      "2000/2000 [==============================] - 2s 1ms/step - loss: 0.0884 - acc: 0.9745 - val_loss: 0.2385 - val_acc: 0.9040\n"
     ]
    }
   ],
   "source": [
    "model = models.Sequential()\n",
    "model.add(layers.Dense(256, activation = 'relu', input_dim = 4 * 4 *512))\n",
    "model.add(layers.Dropout(0.5))\n",
    "model.add(layers.Dense(1, activation = 'sigmoid'))\n",
    "\n",
    "model.compile(optimizer = optimizers.RMSprop(lr=2e-5),\n",
    "              loss = 'binary_crossentropy',\n",
    "              metrics = ['accuracy'])\n",
    "\n",
    "history = model.fit(train_features, \n",
    "                    train_labels, \n",
    "                    epochs = 30,\n",
    "                    batch_size = 20,\n",
    "                    validation_data = (validation_features, validation_labels))"
   ]
  },
  {
   "cell_type": "markdown",
   "metadata": {},
   "source": [
    "#### 绘制结果"
   ]
  },
  {
   "cell_type": "code",
   "execution_count": 16,
   "metadata": {},
   "outputs": [
    {
     "data": {
      "image/png": "[encoded data removed]",
      "text/plain": [
       "<Figure size 432x288 with 1 Axes>"
      ]
     },
     "metadata": {
      "needs_background": "light"
     },
     "output_type": "display_data"
    },
    {
     "data": {
      "image/png": "[encoded data removed]",
      "text/plain": [
       "<Figure size 432x288 with 1 Axes>"
      ]
     },
     "metadata": {
      "needs_background": "light"
     },
     "output_type": "display_data"
    }
   ],
   "source": [
    "import matplotlib.pyplot as plt\n",
    "history_list = history.history\n",
    "acc = history_list['acc']\n",
    "val_acc = history_list['val_acc']\n",
    "loss = history_list['loss']\n",
    "val_loss = history_list['val_loss']\n",
    "\n",
    "epochs = range(1, len(acc) + 1)\n",
    "\n",
    "plt.plot(epochs, acc, 'bo', label = 'Training acc')\n",
    "plt.plot(epochs, val_acc, 'r', label = 'Valadation acc')\n",
    "plt.title('Training and Validaiton Accuracy')\n",
    "plt.legend()\n",
    "\n",
    "plt.figure()\n",
    "\n",
    "plt.plot(epochs, loss, 'bo', label = 'Training loss')\n",
    "plt.plot(epochs, val_loss, 'r', label = 'Validation loss')\n",
    "plt.title('Training and Validation Loss')\n",
    "plt.legend()\n",
    "\n",
    "plt.show()"
   ]
  },
  {
   "cell_type": "markdown",
   "metadata": {},
   "source": [
    "### 2. 使用数据增强的特征提取"
   ]
  },
  {
   "cell_type": "markdown",
   "metadata": {},
   "source": [
    "扩展conv_base模型,然后在输入数据上端到端地运行模型.\n",
    "\n",
    "模型的行为和层类似,所以可以想Sequential模型中添加一个模型(比如conv_base),就像添加一个层一样.\n",
    "\n",
    "在编译和训练模型之前,一定要**冻结**卷积基.\n",
    "\n",
    "冻结(freeze)一个或多个层是指在训练过程中保持其权重不变.\n",
    "\n",
    "如果不这么做,那么卷积基之前学到的表示将会在训练过程中被修改.\n",
    "\n",
    "因为其上添加的Dense层是随机初始化的,所以非常大的权重更新将会在网络中传播,对之前学到的表示造成很大的破坏.\n"
   ]
  },
  {
   "cell_type": "markdown",
   "metadata": {},
   "source": [
    "#### 在卷积基上添加一个密集连接的分类器"
   ]
  },
  {
   "cell_type": "code",
   "execution_count": 24,
   "metadata": {},
   "outputs": [],
   "source": [
    "from keras import models\n",
    "from keras import layers\n",
    "\n",
    "model = models.Sequential()\n",
    "model.add(conv_base)\n",
    "model.add(layers.Flatten())\n",
    "model.add(layers.Dense(256, activation = 'relu'))\n",
    "model.add(layers.Dense(1, activation = 'sigmoid'))"
   ]
  },
  {
   "cell_type": "code",
   "execution_count": 25,
   "metadata": {},
   "outputs": [
    {
     "name": "stdout",
     "output_type": "stream",
     "text": [
      "_________________________________________________________________\n",
      "Layer (type)                 Output Shape              Param #   \n",
      "=================================================================\n",
      "vgg16 (Model)                (None, 4, 4, 512)         14714688  \n",
      "_________________________________________________________________\n",
      "flatten_2 (Flatten)          (None, 8192)              0         \n",
      "_________________________________________________________________\n",
      "dense_5 (Dense)              (None, 256)               2097408   \n",
      "_________________________________________________________________\n",
      "dense_6 (Dense)              (None, 1)                 257       \n",
      "=================================================================\n",
      "Total params: 16,812,353\n",
      "Trainable params: 16,812,353\n",
      "Non-trainable params: 0\n",
      "_________________________________________________________________\n"
     ]
    }
   ],
   "source": [
    "model.summary()"
   ]
  },
  {
   "cell_type": "code",
   "execution_count": 26,
   "metadata": {},
   "outputs": [],
   "source": [
    "conv_base.trainable = False"
   ]
  },
  {
   "cell_type": "markdown",
   "metadata": {},
   "source": [
    "#### 利用冻结的卷积基端到端地训练模型"
   ]
  },
  {
   "cell_type": "code",
   "execution_count": 27,
   "metadata": {},
   "outputs": [],
   "source": [
    "from keras import optimizers\n",
    "model.compile(optimizer = optimizers.RMSprop(lr=2e-5),\n",
    "              loss = 'binary_crossentropy',\n",
    "              metrics = ['accuracy'])"
   ]
  },
  {
   "cell_type": "code",
   "execution_count": 28,
   "metadata": {},
   "outputs": [
    {
     "name": "stdout",
     "output_type": "stream",
     "text": [
      "Epoch 1/30\n",
      "100/100 [==============================] - 25s 249ms/step - loss: 0.5803 - acc: 0.7025 - val_loss: 0.4333 - val_acc: 0.8280\n",
      "Epoch 2/30\n",
      "100/100 [==============================] - 22s 223ms/step - loss: 0.4633 - acc: 0.7941 - val_loss: 0.3492 - val_acc: 0.8673\n",
      "Epoch 3/30\n",
      "100/100 [==============================] - 23s 226ms/step - loss: 0.4087 - acc: 0.8206 - val_loss: 0.3082 - val_acc: 0.8820\n",
      "Epoch 4/30\n",
      "100/100 [==============================] - 24s 238ms/step - loss: 0.3833 - acc: 0.8297 - val_loss: 0.2992 - val_acc: 0.8763\n",
      "Epoch 5/30\n",
      "100/100 [==============================] - 22s 216ms/step - loss: 0.3675 - acc: 0.8434 - val_loss: 0.2830 - val_acc: 0.8852\n",
      "Epoch 6/30\n",
      "100/100 [==============================] - 25s 252ms/step - loss: 0.3439 - acc: 0.8531 - val_loss: 0.2587 - val_acc: 0.8988\n",
      "Epoch 7/30\n",
      "100/100 [==============================] - 23s 231ms/step - loss: 0.3395 - acc: 0.8559 - val_loss: 0.2652 - val_acc: 0.8928\n",
      "Epoch 8/30\n",
      "100/100 [==============================] - 22s 225ms/step - loss: 0.3380 - acc: 0.8516 - val_loss: 0.2554 - val_acc: 0.8924\n",
      "Epoch 9/30\n",
      "100/100 [==============================] - 23s 234ms/step - loss: 0.3264 - acc: 0.8575 - val_loss: 0.2473 - val_acc: 0.9014\n",
      "Epoch 10/30\n",
      "100/100 [==============================] - 23s 226ms/step - loss: 0.3189 - acc: 0.8613 - val_loss: 0.2637 - val_acc: 0.8858\n",
      "Epoch 11/30\n",
      "100/100 [==============================] - 23s 231ms/step - loss: 0.3221 - acc: 0.8644 - val_loss: 0.2392 - val_acc: 0.9034\n",
      "Epoch 12/30\n",
      "100/100 [==============================] - 23s 228ms/step - loss: 0.3101 - acc: 0.8631 - val_loss: 0.2542 - val_acc: 0.8940\n",
      "Epoch 13/30\n",
      "100/100 [==============================] - 24s 237ms/step - loss: 0.3035 - acc: 0.8781 - val_loss: 0.2322 - val_acc: 0.9085\n",
      "Epoch 14/30\n",
      "100/100 [==============================] - 23s 231ms/step - loss: 0.3027 - acc: 0.8659 - val_loss: 0.2495 - val_acc: 0.8928\n",
      "Epoch 15/30\n",
      "100/100 [==============================] - 22s 223ms/step - loss: 0.3061 - acc: 0.8666 - val_loss: 0.2389 - val_acc: 0.9034\n",
      "Epoch 16/30\n",
      "100/100 [==============================] - 24s 235ms/step - loss: 0.3021 - acc: 0.8681 - val_loss: 0.2318 - val_acc: 0.9027\n",
      "Epoch 17/30\n",
      "100/100 [==============================] - 23s 227ms/step - loss: 0.2997 - acc: 0.8688 - val_loss: 0.2478 - val_acc: 0.8985\n",
      "Epoch 18/30\n",
      "100/100 [==============================] - 24s 238ms/step - loss: 0.3045 - acc: 0.8641 - val_loss: 0.2447 - val_acc: 0.9040\n",
      "Epoch 19/30\n",
      "100/100 [==============================] - 23s 228ms/step - loss: 0.2902 - acc: 0.8775 - val_loss: 0.2270 - val_acc: 0.9036\n",
      "Epoch 20/30\n",
      "100/100 [==============================] - 23s 234ms/step - loss: 0.2846 - acc: 0.8759 - val_loss: 0.2232 - val_acc: 0.9072\n",
      "Epoch 21/30\n",
      "100/100 [==============================] - 22s 216ms/step - loss: 0.2955 - acc: 0.8747 - val_loss: 0.2466 - val_acc: 0.8972\n",
      "Epoch 22/30\n",
      "100/100 [==============================] - 23s 234ms/step - loss: 0.2874 - acc: 0.8753 - val_loss: 0.2299 - val_acc: 0.9021\n",
      "Epoch 23/30\n",
      "100/100 [==============================] - 24s 244ms/step - loss: 0.2822 - acc: 0.8825 - val_loss: 0.2403 - val_acc: 0.9023\n",
      "Epoch 24/30\n",
      "100/100 [==============================] - 23s 226ms/step - loss: 0.2716 - acc: 0.8869 - val_loss: 0.2380 - val_acc: 0.9034\n",
      "Epoch 25/30\n",
      "100/100 [==============================] - 23s 232ms/step - loss: 0.2781 - acc: 0.8788 - val_loss: 0.2288 - val_acc: 0.9040\n",
      "Epoch 26/30\n",
      "100/100 [==============================] - 23s 229ms/step - loss: 0.2746 - acc: 0.8828 - val_loss: 0.2292 - val_acc: 0.9036\n",
      "Epoch 27/30\n",
      "100/100 [==============================] - 22s 220ms/step - loss: 0.2680 - acc: 0.8925 - val_loss: 0.2556 - val_acc: 0.9001\n",
      "Epoch 28/30\n",
      "100/100 [==============================] - 24s 238ms/step - loss: 0.2627 - acc: 0.8894 - val_loss: 0.2295 - val_acc: 0.9093\n",
      "Epoch 29/30\n",
      "100/100 [==============================] - 24s 236ms/step - loss: 0.2751 - acc: 0.8831 - val_loss: 0.2226 - val_acc: 0.9059\n",
      "Epoch 30/30\n",
      "100/100 [==============================] - 21s 214ms/step - loss: 0.2746 - acc: 0.8891 - val_loss: 0.2330 - val_acc: 0.9048\n"
     ]
    }
   ],
   "source": [
    "history = model.fit_generator(\n",
    "    train_generator,\n",
    "    steps_per_epoch = 100,\n",
    "    epochs = 30,\n",
    "    validation_data = validation_generator,\n",
    "    validation_steps = 50)"
   ]
  },
  {
   "cell_type": "markdown",
   "metadata": {},
   "source": [
    "#### 绘制结果"
   ]
  },
  {
   "cell_type": "code",
   "execution_count": 29,
   "metadata": {},
   "outputs": [
    {
     "data": {
      "image/png": "[encoded data removed]",
      "text/plain": [
       "<Figure size 432x288 with 1 Axes>"
      ]
     },
     "metadata": {
      "needs_background": "light"
     },
     "output_type": "display_data"
    },
    {
     "data": {
      "image/png": "[encoded data removed]",
      "text/plain": [
       "<Figure size 432x288 with 1 Axes>"
      ]
     },
     "metadata": {
      "needs_background": "light"
     },
     "output_type": "display_data"
    }
   ],
   "source": [
    "import matplotlib.pyplot as plt\n",
    "\n",
    "history_list = history.history\n",
    "acc = history_list['acc']\n",
    "val_acc = history_list['val_acc']\n",
    "loss = history_list['loss']\n",
    "val_loss = history_list['val_loss']\n",
    "\n",
    "epochs = range(1, len(acc) + 1)\n",
    "\n",
    "plt.plot(epochs, acc, 'bo', label = 'Training acc')\n",
    "plt.plot(epochs, val_acc, 'r', label = 'Valadation acc')\n",
    "plt.title('Training and Validaiton Accuracy')\n",
    "plt.legend()\n",
    "\n",
    "plt.figure()\n",
    "\n",
    "plt.plot(epochs, loss, 'bo', label = 'Training loss')\n",
    "plt.plot(epochs, val_loss, 'r', label = 'Validation loss')\n",
    "plt.title('Training and Validation Loss')\n",
    "plt.legend()\n",
    "\n",
    "plt.show()"
   ]
  },
  {
   "cell_type": "code",
   "execution_count": 23,
   "metadata": {},
   "outputs": [],
   "source": [
    "model.save('cats_and_dogs_small_3.h5')"
   ]
  },
  {
   "cell_type": "markdown",
   "metadata": {},
   "source": [
    "##  微调模型(fine-tuning)"
   ]
  },
  {
   "cell_type": "markdown",
   "metadata": {},
   "source": [
    "模型微调与特征提取互为补充。\n",
    "\n",
    "对于用于特征提取的冻结的模型基，微调是指将其顶部的几层“解冻”，并将这解冻的几层和新增加的部分(本例中是全连接分类器)联合训练。\n",
    "\n",
    "之所以叫作微调，是因为它只是略微调整了所复用模型中更加抽象的表示，以便让这些表示与手头的问题更加相关。"
   ]
  },
  {
   "cell_type": "markdown",
   "metadata": {},
   "source": [
    "微调网络的步骤如下：\n",
    "\n",
    "1. 在已经训练好的基网络(base network)上添加自定义网络\n",
    "2. 冻结基网络\n",
    "3. 训练所添加的部分\n",
    "4. 解冻基网络的一些层\n",
    "5. 联合训练解冻的这些层和添加的部分"
   ]
  },
  {
   "cell_type": "markdown",
   "metadata": {},
   "source": [
    "#### 冻结直到某一层的所有层"
   ]
  },
  {
   "cell_type": "code",
   "execution_count": 30,
   "metadata": {},
   "outputs": [],
   "source": [
    "conv_base.trainable = True\n",
    "\n",
    "set_trainable = False\n",
    "for layer in conv_base.layers:\n",
    "    if layer.name == 'block5_conv1':\n",
    "        set_trainable = True\n",
    "    if set_trainable:\n",
    "        layer.trainable = True\n",
    "    else:\n",
    "        layer.trainable = False"
   ]
  },
  {
   "cell_type": "markdown",
   "metadata": {},
   "source": [
    "#### 微调模型"
   ]
  },
  {
   "cell_type": "code",
   "execution_count": 32,
   "metadata": {},
   "outputs": [
    {
     "name": "stdout",
     "output_type": "stream",
     "text": [
      "Epoch 1/100\n",
      "100/100 [==============================] - 24s 238ms/step - loss: 0.2791 - acc: 0.8828 - val_loss: 0.2496 - val_acc: 0.8985\n",
      "Epoch 2/100\n",
      "100/100 [==============================] - 24s 238ms/step - loss: 0.2298 - acc: 0.9025 - val_loss: 0.2169 - val_acc: 0.9143\n",
      "Epoch 3/100\n",
      "100/100 [==============================] - 23s 230ms/step - loss: 0.2208 - acc: 0.9097 - val_loss: 0.1930 - val_acc: 0.9220\n",
      "Epoch 4/100\n",
      "100/100 [==============================] - 24s 239ms/step - loss: 0.1953 - acc: 0.9219 - val_loss: 0.2018 - val_acc: 0.9169\n",
      "Epoch 5/100\n",
      "100/100 [==============================] - 22s 218ms/step - loss: 0.1837 - acc: 0.9228 - val_loss: 0.1889 - val_acc: 0.9213\n",
      "Epoch 6/100\n",
      "100/100 [==============================] - 25s 253ms/step - loss: 0.1742 - acc: 0.9294 - val_loss: 0.2278 - val_acc: 0.9098\n",
      "Epoch 7/100\n",
      "100/100 [==============================] - 23s 232ms/step - loss: 0.1631 - acc: 0.9341 - val_loss: 0.1859 - val_acc: 0.9264\n",
      "Epoch 8/100\n",
      "100/100 [==============================] - 22s 224ms/step - loss: 0.1418 - acc: 0.9425 - val_loss: 0.2304 - val_acc: 0.9201\n",
      "Epoch 9/100\n",
      "100/100 [==============================] - 24s 235ms/step - loss: 0.1424 - acc: 0.9444 - val_loss: 0.2126 - val_acc: 0.9130\n",
      "Epoch 10/100\n",
      "100/100 [==============================] - 23s 229ms/step - loss: 0.1348 - acc: 0.9453 - val_loss: 0.1735 - val_acc: 0.9315\n",
      "Epoch 11/100\n",
      "100/100 [==============================] - 23s 233ms/step - loss: 0.1150 - acc: 0.9541 - val_loss: 0.1803 - val_acc: 0.9298\n",
      "Epoch 12/100\n",
      "100/100 [==============================] - 23s 229ms/step - loss: 0.1098 - acc: 0.9528 - val_loss: 0.1791 - val_acc: 0.9277\n",
      "Epoch 13/100\n",
      "100/100 [==============================] - 24s 236ms/step - loss: 0.1103 - acc: 0.9556 - val_loss: 0.1757 - val_acc: 0.9356\n",
      "Epoch 14/100\n",
      "100/100 [==============================] - 22s 219ms/step - loss: 0.0883 - acc: 0.9659 - val_loss: 0.3186 - val_acc: 0.9016\n",
      "Epoch 15/100\n",
      "100/100 [==============================] - 24s 238ms/step - loss: 0.1022 - acc: 0.9591 - val_loss: 0.2093 - val_acc: 0.9253\n",
      "Epoch 16/100\n",
      "100/100 [==============================] - 24s 239ms/step - loss: 0.0858 - acc: 0.9666 - val_loss: 0.1676 - val_acc: 0.9433\n",
      "Epoch 17/100\n",
      "100/100 [==============================] - 23s 228ms/step - loss: 0.0852 - acc: 0.9688 - val_loss: 0.1763 - val_acc: 0.9302\n",
      "Epoch 18/100\n",
      "100/100 [==============================] - 24s 239ms/step - loss: 0.0794 - acc: 0.9669 - val_loss: 0.2251 - val_acc: 0.9227\n",
      "Epoch 19/100\n",
      "100/100 [==============================] - 23s 231ms/step - loss: 0.0782 - acc: 0.9678 - val_loss: 0.1893 - val_acc: 0.9277\n",
      "Epoch 20/100\n",
      "100/100 [==============================] - 24s 239ms/step - loss: 0.0712 - acc: 0.9753 - val_loss: 0.1606 - val_acc: 0.9381\n",
      "Epoch 21/100\n",
      "100/100 [==============================] - 22s 220ms/step - loss: 0.0652 - acc: 0.9741 - val_loss: 0.1939 - val_acc: 0.9321\n",
      "Epoch 22/100\n",
      "100/100 [==============================] - 24s 237ms/step - loss: 0.0708 - acc: 0.9750 - val_loss: 0.1944 - val_acc: 0.9330\n",
      "Epoch 23/100\n",
      "100/100 [==============================] - 25s 247ms/step - loss: 0.0722 - acc: 0.9709 - val_loss: 0.2079 - val_acc: 0.9283\n",
      "Epoch 24/100\n",
      "100/100 [==============================] - 23s 227ms/step - loss: 0.0684 - acc: 0.9763 - val_loss: 0.2239 - val_acc: 0.9317\n",
      "Epoch 25/100\n",
      "100/100 [==============================] - 23s 232ms/step - loss: 0.0548 - acc: 0.9806 - val_loss: 0.2224 - val_acc: 0.9278\n",
      "Epoch 26/100\n",
      "100/100 [==============================] - 23s 231ms/step - loss: 0.0518 - acc: 0.9812 - val_loss: 0.2056 - val_acc: 0.9340\n",
      "Epoch 27/100\n",
      "100/100 [==============================] - 22s 219ms/step - loss: 0.0577 - acc: 0.9788 - val_loss: 0.2007 - val_acc: 0.9394\n",
      "Epoch 28/100\n",
      "100/100 [==============================] - 24s 242ms/step - loss: 0.0490 - acc: 0.9841 - val_loss: 0.2221 - val_acc: 0.9270\n",
      "Epoch 29/100\n",
      "100/100 [==============================] - 24s 238ms/step - loss: 0.0535 - acc: 0.9812 - val_loss: 0.1820 - val_acc: 0.9394\n",
      "Epoch 30/100\n",
      "100/100 [==============================] - 23s 229ms/step - loss: 0.0443 - acc: 0.9856 - val_loss: 0.2212 - val_acc: 0.9308\n",
      "Epoch 31/100\n",
      "100/100 [==============================] - 22s 224ms/step - loss: 0.0444 - acc: 0.9850 - val_loss: 0.2205 - val_acc: 0.9323\n",
      "Epoch 32/100\n",
      "100/100 [==============================] - 23s 231ms/step - loss: 0.0469 - acc: 0.9831 - val_loss: 0.2126 - val_acc: 0.9317\n",
      "Epoch 33/100\n",
      "100/100 [==============================] - 24s 237ms/step - loss: 0.0407 - acc: 0.9856 - val_loss: 0.1769 - val_acc: 0.9397\n",
      "Epoch 34/100\n",
      "100/100 [==============================] - 22s 220ms/step - loss: 0.0449 - acc: 0.9813 - val_loss: 0.2073 - val_acc: 0.9381\n",
      "Epoch 35/100\n",
      "100/100 [==============================] - 25s 245ms/step - loss: 0.0434 - acc: 0.9825 - val_loss: 0.1954 - val_acc: 0.9423\n",
      "Epoch 36/100\n",
      "100/100 [==============================] - 24s 238ms/step - loss: 0.0453 - acc: 0.9847 - val_loss: 0.2296 - val_acc: 0.9317\n",
      "Epoch 37/100\n",
      "100/100 [==============================] - 21s 215ms/step - loss: 0.0304 - acc: 0.9897 - val_loss: 0.1729 - val_acc: 0.9327\n",
      "Epoch 38/100\n",
      "100/100 [==============================] - 24s 239ms/step - loss: 0.0343 - acc: 0.9872 - val_loss: 0.1912 - val_acc: 0.9349\n",
      "Epoch 39/100\n",
      "100/100 [==============================] - 23s 230ms/step - loss: 0.0371 - acc: 0.9866 - val_loss: 0.3618 - val_acc: 0.9105\n",
      "Epoch 40/100\n",
      "100/100 [==============================] - 24s 237ms/step - loss: 0.0348 - acc: 0.9869 - val_loss: 0.1902 - val_acc: 0.9491\n",
      "Epoch 41/100\n",
      "100/100 [==============================] - 24s 235ms/step - loss: 0.0297 - acc: 0.9878 - val_loss: 0.2467 - val_acc: 0.9285\n",
      "Epoch 42/100\n",
      "100/100 [==============================] - 23s 228ms/step - loss: 0.0347 - acc: 0.9900 - val_loss: 0.2204 - val_acc: 0.9391\n",
      "Epoch 43/100\n",
      "100/100 [==============================] - 24s 236ms/step - loss: 0.0371 - acc: 0.9869 - val_loss: 0.2172 - val_acc: 0.9388\n",
      "Epoch 44/100\n",
      "100/100 [==============================] - 22s 215ms/step - loss: 0.0270 - acc: 0.9906 - val_loss: 0.2338 - val_acc: 0.9378\n",
      "Epoch 45/100\n",
      "100/100 [==============================] - 24s 244ms/step - loss: 0.0224 - acc: 0.9925 - val_loss: 0.2217 - val_acc: 0.9343\n",
      "Epoch 46/100\n",
      "100/100 [==============================] - 23s 231ms/step - loss: 0.0289 - acc: 0.9909 - val_loss: 0.2326 - val_acc: 0.9416\n",
      "Epoch 47/100\n",
      "100/100 [==============================] - 22s 223ms/step - loss: 0.0304 - acc: 0.9897 - val_loss: 0.2188 - val_acc: 0.9459\n",
      "Epoch 48/100\n",
      "100/100 [==============================] - 23s 233ms/step - loss: 0.0303 - acc: 0.9897 - val_loss: 0.2269 - val_acc: 0.9433\n",
      "Epoch 49/100\n",
      "100/100 [==============================] - 23s 229ms/step - loss: 0.0296 - acc: 0.9900 - val_loss: 0.2866 - val_acc: 0.9264\n",
      "Epoch 50/100\n",
      "100/100 [==============================] - 23s 226ms/step - loss: 0.0187 - acc: 0.9925 - val_loss: 0.2968 - val_acc: 0.9304\n",
      "Epoch 51/100\n",
      "100/100 [==============================] - 23s 226ms/step - loss: 0.0255 - acc: 0.9900 - val_loss: 0.2529 - val_acc: 0.9353\n",
      "Epoch 52/100\n",
      "100/100 [==============================] - 25s 252ms/step - loss: 0.0226 - acc: 0.9922 - val_loss: 0.2090 - val_acc: 0.9407\n",
      "Epoch 53/100\n",
      "100/100 [==============================] - 22s 215ms/step - loss: 0.0254 - acc: 0.9937 - val_loss: 0.2158 - val_acc: 0.9467\n",
      "Epoch 54/100\n",
      "100/100 [==============================] - 24s 236ms/step - loss: 0.0272 - acc: 0.9906 - val_loss: 0.3490 - val_acc: 0.9195\n",
      "Epoch 55/100\n",
      "100/100 [==============================] - 23s 232ms/step - loss: 0.0301 - acc: 0.9887 - val_loss: 0.2398 - val_acc: 0.9435\n",
      "Epoch 56/100\n",
      "100/100 [==============================] - 22s 224ms/step - loss: 0.0215 - acc: 0.9922 - val_loss: 0.2481 - val_acc: 0.9375\n",
      "Epoch 57/100\n",
      "100/100 [==============================] - 25s 245ms/step - loss: 0.0230 - acc: 0.9894 - val_loss: 0.2591 - val_acc: 0.9304\n",
      "Epoch 58/100\n",
      "100/100 [==============================] - 23s 229ms/step - loss: 0.0201 - acc: 0.9928 - val_loss: 0.2178 - val_acc: 0.9448\n",
      "Epoch 59/100\n",
      "100/100 [==============================] - 23s 234ms/step - loss: 0.0233 - acc: 0.9937 - val_loss: 0.4691 - val_acc: 0.9111\n",
      "Epoch 60/100\n",
      "100/100 [==============================] - 22s 217ms/step - loss: 0.0214 - acc: 0.9931 - val_loss: 0.2573 - val_acc: 0.9340\n"
     ]
    },
    {
     "name": "stdout",
     "output_type": "stream",
     "text": [
      "Epoch 61/100\n",
      "100/100 [==============================] - 24s 235ms/step - loss: 0.0153 - acc: 0.9947 - val_loss: 0.2731 - val_acc: 0.9356\n",
      "Epoch 62/100\n",
      "100/100 [==============================] - 24s 238ms/step - loss: 0.0201 - acc: 0.9922 - val_loss: 0.3507 - val_acc: 0.9302\n",
      "Epoch 63/100\n",
      "100/100 [==============================] - 22s 223ms/step - loss: 0.0239 - acc: 0.9897 - val_loss: 0.2449 - val_acc: 0.9369\n",
      "Epoch 64/100\n",
      "100/100 [==============================] - 23s 229ms/step - loss: 0.0192 - acc: 0.9913 - val_loss: 0.2175 - val_acc: 0.9362\n",
      "Epoch 65/100\n",
      "100/100 [==============================] - 23s 230ms/step - loss: 0.0187 - acc: 0.9925 - val_loss: 0.2817 - val_acc: 0.9346\n",
      "Epoch 66/100\n",
      "100/100 [==============================] - 22s 218ms/step - loss: 0.0194 - acc: 0.9922 - val_loss: 0.2027 - val_acc: 0.9381\n",
      "Epoch 67/100\n",
      "100/100 [==============================] - 23s 234ms/step - loss: 0.0132 - acc: 0.9962 - val_loss: 0.2846 - val_acc: 0.9372\n",
      "Epoch 68/100\n",
      "100/100 [==============================] - 23s 233ms/step - loss: 0.0140 - acc: 0.9947 - val_loss: 0.2503 - val_acc: 0.9343\n",
      "Epoch 69/100\n",
      "100/100 [==============================] - 23s 232ms/step - loss: 0.0130 - acc: 0.9953 - val_loss: 0.3278 - val_acc: 0.9327\n",
      "Epoch 70/100\n",
      "100/100 [==============================] - 24s 237ms/step - loss: 0.0243 - acc: 0.9919 - val_loss: 0.3859 - val_acc: 0.9207\n",
      "Epoch 71/100\n",
      "100/100 [==============================] - 23s 228ms/step - loss: 0.0182 - acc: 0.9937 - val_loss: 0.2555 - val_acc: 0.9410\n",
      "Epoch 72/100\n",
      "100/100 [==============================] - 22s 224ms/step - loss: 0.0194 - acc: 0.9925 - val_loss: 0.3036 - val_acc: 0.9330\n",
      "Epoch 73/100\n",
      "100/100 [==============================] - 23s 232ms/step - loss: 0.0140 - acc: 0.9947 - val_loss: 0.2554 - val_acc: 0.9381\n",
      "Epoch 74/100\n",
      "100/100 [==============================] - 24s 240ms/step - loss: 0.0136 - acc: 0.9944 - val_loss: 0.2686 - val_acc: 0.9378\n",
      "Epoch 75/100\n",
      "100/100 [==============================] - 22s 220ms/step - loss: 0.0187 - acc: 0.9925 - val_loss: 0.2549 - val_acc: 0.9375\n",
      "Epoch 76/100\n",
      "100/100 [==============================] - 23s 228ms/step - loss: 0.0117 - acc: 0.9972 - val_loss: 0.3217 - val_acc: 0.9277\n",
      "Epoch 77/100\n",
      "100/100 [==============================] - 24s 239ms/step - loss: 0.0107 - acc: 0.9975 - val_loss: 0.3083 - val_acc: 0.9375\n",
      "Epoch 78/100\n",
      "100/100 [==============================] - 23s 229ms/step - loss: 0.0115 - acc: 0.9950 - val_loss: 0.4343 - val_acc: 0.9270\n",
      "Epoch 79/100\n",
      "100/100 [==============================] - 23s 231ms/step - loss: 0.0229 - acc: 0.9925 - val_loss: 0.4185 - val_acc: 0.9233\n",
      "Epoch 80/100\n",
      "100/100 [==============================] - 23s 231ms/step - loss: 0.0171 - acc: 0.9944 - val_loss: 0.2516 - val_acc: 0.9381\n",
      "Epoch 81/100\n",
      "100/100 [==============================] - 25s 246ms/step - loss: 0.0145 - acc: 0.9950 - val_loss: 0.2858 - val_acc: 0.9327\n",
      "Epoch 82/100\n",
      "100/100 [==============================] - 22s 222ms/step - loss: 0.0110 - acc: 0.9956 - val_loss: 0.3220 - val_acc: 0.9272\n",
      "Epoch 83/100\n",
      "100/100 [==============================] - 23s 227ms/step - loss: 0.0102 - acc: 0.9972 - val_loss: 0.2314 - val_acc: 0.9480\n",
      "Epoch 84/100\n",
      "100/100 [==============================] - 24s 240ms/step - loss: 0.0091 - acc: 0.9981 - val_loss: 0.2739 - val_acc: 0.9388\n",
      "Epoch 85/100\n",
      "100/100 [==============================] - 21s 214ms/step - loss: 0.0137 - acc: 0.9950 - val_loss: 0.2763 - val_acc: 0.9404\n",
      "Epoch 86/100\n",
      "100/100 [==============================] - 25s 251ms/step - loss: 0.0148 - acc: 0.9944 - val_loss: 0.3111 - val_acc: 0.9323\n",
      "Epoch 87/100\n",
      "100/100 [==============================] - 23s 233ms/step - loss: 0.0140 - acc: 0.9950 - val_loss: 0.2748 - val_acc: 0.9416\n",
      "Epoch 88/100\n",
      "100/100 [==============================] - 23s 226ms/step - loss: 0.0122 - acc: 0.9953 - val_loss: 0.3162 - val_acc: 0.9356\n",
      "Epoch 89/100\n",
      "100/100 [==============================] - 23s 234ms/step - loss: 0.0172 - acc: 0.9944 - val_loss: 0.3001 - val_acc: 0.9375\n",
      "Epoch 90/100\n",
      "100/100 [==============================] - 23s 228ms/step - loss: 0.0122 - acc: 0.9953 - val_loss: 0.2795 - val_acc: 0.9480\n",
      "Epoch 91/100\n",
      "100/100 [==============================] - 24s 244ms/step - loss: 0.0148 - acc: 0.9953 - val_loss: 0.2755 - val_acc: 0.9388\n",
      "Epoch 92/100\n",
      "100/100 [==============================] - 22s 216ms/step - loss: 0.0096 - acc: 0.9966 - val_loss: 0.2521 - val_acc: 0.9435\n",
      "Epoch 93/100\n",
      "100/100 [==============================] - 24s 238ms/step - loss: 0.0209 - acc: 0.9925 - val_loss: 0.3157 - val_acc: 0.9388\n",
      "Epoch 94/100\n",
      "100/100 [==============================] - 23s 232ms/step - loss: 0.0154 - acc: 0.9947 - val_loss: 0.2793 - val_acc: 0.9492\n",
      "Epoch 95/100\n",
      "100/100 [==============================] - 22s 224ms/step - loss: 0.0126 - acc: 0.9956 - val_loss: 0.2738 - val_acc: 0.9336\n",
      "Epoch 96/100\n",
      "100/100 [==============================] - 24s 238ms/step - loss: 0.0111 - acc: 0.9959 - val_loss: 0.2970 - val_acc: 0.9356\n",
      "Epoch 97/100\n",
      "100/100 [==============================] - 23s 228ms/step - loss: 0.0105 - acc: 0.9953 - val_loss: 0.2579 - val_acc: 0.9499\n",
      "Epoch 98/100\n",
      "100/100 [==============================] - 24s 237ms/step - loss: 0.0098 - acc: 0.9966 - val_loss: 0.7338 - val_acc: 0.8911\n",
      "Epoch 99/100\n",
      "100/100 [==============================] - 23s 229ms/step - loss: 0.0100 - acc: 0.9966 - val_loss: 0.3436 - val_acc: 0.9397\n",
      "Epoch 100/100\n",
      "100/100 [==============================] - 23s 235ms/step - loss: 0.0062 - acc: 0.9978 - val_loss: 0.4081 - val_acc: 0.9291\n"
     ]
    }
   ],
   "source": [
    "model.compile(loss='binary_crossentropy',\n",
    "              optimizer=optimizers.RMSprop(lr=1e-5),\n",
    "              metrics=['acc'])\n",
    "              \n",
    "history = model.fit_generator(      \n",
    "    train_generator,\n",
    "    steps_per_epoch=100,\n",
    "    epochs=100,\n",
    "    validation_data=validation_generator,\n",
    "    validation_steps=50)\n"
   ]
  },
  {
   "cell_type": "markdown",
   "metadata": {},
   "source": [
    "#### 绘制结果"
   ]
  },
  {
   "cell_type": "code",
   "execution_count": 34,
   "metadata": {},
   "outputs": [
    {
     "data": {
      "image/png": "[encoded data removed]",
      "text/plain": [
       "<Figure size 432x288 with 1 Axes>"
      ]
     },
     "metadata": {
      "needs_background": "light"
     },
     "output_type": "display_data"
    },
    {
     "data": {
      "image/png": "[encoded data removed]",
      "text/plain": [
       "<Figure size 432x288 with 1 Axes>"
      ]
     },
     "metadata": {
      "needs_background": "light"
     },
     "output_type": "display_data"
    }
   ],
   "source": [
    "import matplotlib.pyplot as plt\n",
    "\n",
    "history_list = history.history\n",
    "acc = history_list['acc']\n",
    "val_acc = history_list['val_acc']\n",
    "loss = history_list['loss']\n",
    "val_loss = history_list['val_loss']\n",
    "\n",
    "epochs = range(1, len(acc) + 1)\n",
    "\n",
    "plt.plot(epochs, acc, 'bo', label = 'Training acc')\n",
    "plt.plot(epochs, val_acc, 'r', label = 'Valadation acc')\n",
    "plt.title('Training and Validaiton Accuracy')\n",
    "plt.legend()\n",
    "\n",
    "plt.figure()\n",
    "\n",
    "plt.plot(epochs, loss, 'bo', label = 'Training loss')\n",
    "plt.plot(epochs, val_loss, 'r', label = 'Validation loss')\n",
    "plt.title('Training and Validation Loss')\n",
    "plt.legend()\n",
    "\n",
    "plt.show()"
   ]
  },
  {
   "cell_type": "markdown",
   "metadata": {},
   "source": [
    "#### 使曲线平滑"
   ]
  },
  {
   "cell_type": "code",
   "execution_count": 35,
   "metadata": {},
   "outputs": [
    {
     "ename": "SyntaxError",
     "evalue": "invalid character in identifier (<ipython-input-35-4d3184b32be6>, line 5)",
     "output_type": "error",
     "traceback": [
      "\u001b[0;36m  File \u001b[0;32m\"<ipython-input-35-4d3184b32be6>\"\u001b[0;36m, line \u001b[0;32m5\u001b[0m\n\u001b[0;31m    previous = smoothed_points【-1】\u001b[0m\n\u001b[0m                              ^\u001b[0m\n\u001b[0;31mSyntaxError\u001b[0m\u001b[0;31m:\u001b[0m invalid character in identifier\n"
     ]
    }
   ],
   "source": [
    "def smooth_curve(points, factor=0.8):\n",
    "    smoothed_points = []\n",
    "    for point in points:\n",
    "        if smoothed_points:\n",
    "            previous = smoothed_points【-1】\n",
    "            smoothed_points.append(previous * factor + point * (1 - factor))\n",
    "        else:\n",
    "            smoothed_points.append(point)\n",
    "    return smoothed_points"
   ]
  },
  {
   "cell_type": "code",
   "execution_count": null,
   "metadata": {},
   "outputs": [],
   "source": [
    "plt.plot(epochs, smooth_curve(acc), 'bo', label = 'Training acc')\n",
    "plt.plot(epochs, smooth_curve(val_acc), 'r', label = 'Valadation acc')\n",
    "plt.title('Training and Validaiton Accuracy')\n",
    "plt.legend()\n",
    "\n",
    "plt.figure()\n",
    "\n",
    "plt.plot(epochs, smooth_curve(loss), 'bo', label = 'Training loss')\n",
    "plt.plot(epochs, smooth_curve(val_loss), 'r', label = 'Validation loss')\n",
    "plt.title('Training and Validation Loss')\n",
    "plt.legend()\n",
    "\n",
    "plt.show()"
   ]
  },
  {
   "cell_type": "markdown",
   "metadata": {},
   "source": [
    "#### 在测试集上评估模型"
   ]
  },
  {
   "cell_type": "code",
   "execution_count": null,
   "metadata": {},
   "outputs": [],
   "source": [
    "test_loss, test_acc = model.evaluate_generator(test_generator, steps=50)\n",
    "print(\"test acc:\", test_acc)"
   ]
  }
 ],
 "metadata": {
  "kernelspec": {
   "display_name": "Python 3",
   "language": "python",
   "name": "python3"
  },
  "language_info": {
   "codemirror_mode": {
    "name": "ipython",
    "version": 3
   },
   "file_extension": ".py",
   "mimetype": "text/x-python",
   "name": "python",
   "nbconvert_exporter": "python",
   "pygments_lexer": "ipython3",
   "version": "3.5.2"
  }
 },
 "nbformat": 4,
 "nbformat_minor": 2
}
